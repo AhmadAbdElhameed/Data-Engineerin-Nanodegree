{
 "cells": [
  {
   "cell_type": "code",
   "execution_count": 1,
   "metadata": {
    "editable": true
   },
   "outputs": [],
   "source": [
    "import pandas as pd\n",
    "import numpy as np\n",
    "import os\n",
    "import pyspark.sql.functions as F\n",
    "from pyspark.sql import SparkSession"
   ]
  },
  {
   "cell_type": "code",
   "execution_count": 2,
   "metadata": {
    "editable": true
   },
   "outputs": [],
   "source": [
    "import configparser\n",
    "from datetime import datetime\n",
    "import os\n",
    "from pyspark.sql import SparkSession\n",
    "from pyspark.sql.functions import udf, col,monotonically_increasing_id, from_unixtime\n",
    "from pyspark.sql.functions import year, month, dayofmonth,dayofweek, hour, weekofyear, date_format\n",
    "\n",
    "config = configparser.ConfigParser()\n",
    "config.read('dl.cfg')\n",
    "\n",
    "os.environ['AWS_ACCESS_KEY_ID']=config['AWS']['AWS_ACCESS_KEY_ID']\n",
    "os.environ['AWS_SECRET_ACCESS_KEY']=config['AWS']['AWS_SECRET_ACCESS_KEY']"
   ]
  },
  {
   "cell_type": "code",
   "execution_count": 3,
   "metadata": {
    "editable": true
   },
   "outputs": [],
   "source": [
    "from pyspark.sql.types import StructType as R,TimestampType as Ts ,StructField as Fld,FloatType as Flt ,DoubleType as Dbl, StringType as Str, IntegerType as Int, DateType as Date"
   ]
  },
  {
   "cell_type": "code",
   "execution_count": 4,
   "metadata": {
    "editable": true
   },
   "outputs": [],
   "source": [
    "def create_spark_session():\n",
    "    spark = SparkSession \\\n",
    "        .builder \\\n",
    "        .config(\"spark.jars.packages\", \"org.apache.hadoop:hadoop-aws:2.7.0\") \\\n",
    "        .getOrCreate()\n",
    "    return spark"
   ]
  },
  {
   "cell_type": "code",
   "execution_count": 5,
   "metadata": {
    "editable": true
   },
   "outputs": [
    {
     "data": {
      "text/html": [
       "\n",
       "            <div>\n",
       "                <p><b>SparkSession - in-memory</b></p>\n",
       "                \n",
       "        <div>\n",
       "            <p><b>SparkContext</b></p>\n",
       "\n",
       "            <p><a href=\"http://d12b33738c3f:4040\">Spark UI</a></p>\n",
       "\n",
       "            <dl>\n",
       "              <dt>Version</dt>\n",
       "                <dd><code>v2.4.3</code></dd>\n",
       "              <dt>Master</dt>\n",
       "                <dd><code>local[*]</code></dd>\n",
       "              <dt>AppName</dt>\n",
       "                <dd><code>pyspark-shell</code></dd>\n",
       "            </dl>\n",
       "        </div>\n",
       "        \n",
       "            </div>\n",
       "        "
      ],
      "text/plain": [
       "<pyspark.sql.session.SparkSession at 0x7f8b2759c828>"
      ]
     },
     "execution_count": 5,
     "metadata": {},
     "output_type": "execute_result"
    }
   ],
   "source": [
    "spark = create_spark_session()\n",
    "spark"
   ]
  },
  {
   "cell_type": "markdown",
   "metadata": {
    "editable": true
   },
   "source": [
    "## Read Songs and Log Data"
   ]
  },
  {
   "cell_type": "code",
   "execution_count": 6,
   "metadata": {
    "editable": true
   },
   "outputs": [],
   "source": [
    "INPUT_BUCKET='s3a://udacity-dend/'\n",
    "LOG_DATA_PATH='log-data/*/*/*.json'\n",
    "SONG_DATA_PATH ='song_data/A/A/*/*.json'"
   ]
  },
  {
   "cell_type": "code",
   "execution_count": 7,
   "metadata": {
    "editable": true
   },
   "outputs": [],
   "source": [
    "song_data = os.path.join(INPUT_BUCKET, SONG_DATA_PATH)"
   ]
  },
  {
   "cell_type": "code",
   "execution_count": 8,
   "metadata": {
    "editable": true
   },
   "outputs": [],
   "source": [
    "log_data = os.path.join(INPUT_BUCKET, LOG_DATA_PATH)"
   ]
  },
  {
   "cell_type": "code",
   "execution_count": 9,
   "metadata": {
    "editable": true
   },
   "outputs": [],
   "source": [
    "### Create Log Schema\n",
    "log_schema = R([\n",
    "    Fld(\"artist\",Str()),\n",
    "    Fld(\"auth\",Str()),\n",
    "    Fld(\"first_name\",Str()),\n",
    "    Fld(\"gender\",Str()),\n",
    "    Fld(\"item_in_session\",Int()),\n",
    "    Fld(\"last_name\",Str()),\n",
    "    Fld(\"length\",Flt()),\n",
    "    Fld(\"level\",Str()),\n",
    "    Fld(\"location\",Str()),\n",
    "    Fld(\"method\",Str()),\n",
    "    Fld(\"page\",Str()),\n",
    "    Fld(\"registration\",Flt()),\n",
    "    Fld(\"session_id\",Int()),\n",
    "    Fld(\"song\",Str()),\n",
    "    Fld(\"status\",Int()),\n",
    "    Fld(\"ts\",Ts()),\n",
    "    Fld(\"user_agent\",Str()),\n",
    "    Fld(\"user_id\",Int())\n",
    "    ])"
   ]
  },
  {
   "cell_type": "code",
   "execution_count": 10,
   "metadata": {
    "editable": true
   },
   "outputs": [],
   "source": [
    "### Create Song Schema\n",
    "song_schema = R([\n",
    "        Fld(\"artist_id\", Str()),\n",
    "        Fld(\"artist_latitude\", Dbl()),\n",
    "        Fld(\"artist_location\", Str()),\n",
    "        Fld(\"artist_longitude\", Str()),\n",
    "        Fld(\"artist_name\", Str()),\n",
    "        Fld(\"duration\", Dbl()),\n",
    "        Fld(\"num_songs\", Int()),\n",
    "        Fld(\"title\", Str()),\n",
    "        Fld(\"year\", Int()),\n",
    "    ])"
   ]
  },
  {
   "cell_type": "code",
   "execution_count": 11,
   "metadata": {
    "editable": true
   },
   "outputs": [],
   "source": [
    "df_song = spark.read.json(song_data)\n",
    "df_log = spark.read.json(log_data)"
   ]
  },
  {
   "cell_type": "code",
   "execution_count": 12,
   "metadata": {
    "editable": true
   },
   "outputs": [
    {
     "data": {
      "text/plain": [
       "604"
      ]
     },
     "execution_count": 12,
     "metadata": {},
     "output_type": "execute_result"
    }
   ],
   "source": [
    "df_song.count()"
   ]
  },
  {
   "cell_type": "code",
   "execution_count": null,
   "metadata": {
    "editable": true
   },
   "outputs": [],
   "source": []
  },
  {
   "cell_type": "markdown",
   "metadata": {
    "editable": true
   },
   "source": [
    "## Process Songs Data"
   ]
  },
  {
   "cell_type": "code",
   "execution_count": 13,
   "metadata": {
    "editable": true
   },
   "outputs": [],
   "source": [
    "# extract columns to create songs table\n",
    "song_columns = [\"song_id\",\"title\", \"artist_id\", \"year\", \"duration\"]"
   ]
  },
  {
   "cell_type": "code",
   "execution_count": 14,
   "metadata": {
    "editable": true
   },
   "outputs": [],
   "source": [
    "songs_table = df_song.select(song_columns).dropDuplicates().withColumn(\"song_id\", monotonically_increasing_id())"
   ]
  },
  {
   "cell_type": "code",
   "execution_count": 15,
   "metadata": {
    "editable": true
   },
   "outputs": [],
   "source": [
    "OUTPUT_DATA_PATH = \"outputs/\""
   ]
  },
  {
   "cell_type": "code",
   "execution_count": 16,
   "metadata": {
    "editable": true
   },
   "outputs": [],
   "source": [
    "# write songs table to parquet files partitioned by year and artist\n",
    "songs_table.write.mode(\"overwrite\").partitionBy(\"year\", \"artist_id\").parquet(OUTPUT_DATA_PATH+'songs_table/')"
   ]
  },
  {
   "cell_type": "code",
   "execution_count": 17,
   "metadata": {
    "editable": true
   },
   "outputs": [],
   "source": [
    "# extract columns to create artists table\n",
    "artists_columns = [\"artist_id\",\n",
    "                  \"artist_name as name\",\n",
    "                  \"artist_location as location\",\n",
    "                  \"artist_latitude as latitude\",\n",
    "                  \"artist_longitude as longitude\"]"
   ]
  },
  {
   "cell_type": "code",
   "execution_count": 18,
   "metadata": {
    "editable": true
   },
   "outputs": [],
   "source": [
    "artists_table = df_song.selectExpr(artists_columns).dropDuplicates()"
   ]
  },
  {
   "cell_type": "code",
   "execution_count": 19,
   "metadata": {
    "editable": true
   },
   "outputs": [],
   "source": [
    "# write artists table to parquet files\n",
    "artists_table.write.mode(\"overwrite\").parquet(OUTPUT_DATA_PATH+'artists_table/')"
   ]
  },
  {
   "cell_type": "code",
   "execution_count": 20,
   "metadata": {
    "editable": true
   },
   "outputs": [
    {
     "name": "stdout",
     "output_type": "stream",
     "text": [
      "+------------------+---------------+--------------------+--------+---------+\n",
      "|         artist_id|           name|            location|latitude|longitude|\n",
      "+------------------+---------------+--------------------+--------+---------+\n",
      "|ARSVTNL1187B992A91|  Jonathan King|     London, England|51.50632| -0.12714|\n",
      "|ARY0RQP1187FB48B93|      Mickey 3D|                    |    null|     null|\n",
      "|ARPIKA31187FB4C233|     The Action|            New York|40.71455|-74.00712|\n",
      "|ARX16TQ1187B9899C9|     Oysterhead|     New Orleans, LA|29.95369|-90.07771|\n",
      "|ARE50SC1187B98C04A|    The 69 Eyes|   Helsinki, Finland|60.17116| 24.93258|\n",
      "|AR5R1EG1187FB3E94F|     Linda Eder|        Brainerd, MN|46.35316|-94.20069|\n",
      "|AR3GZLR1187FB3D817|    Biffy Clyro|                    |    null|     null|\n",
      "|ARXR32B1187FB57099|            Gob|                    |    null|     null|\n",
      "|ARMX9KX1187B9A58E8|   Richard Marx|         Chicago, IL|41.88415|-87.63241|\n",
      "|AR0IT221187B999C4D| The Weathermen|             BELGIUM|50.50101|  4.47684|\n",
      "|ARPLTRF11E8F5C15C5|Lost Immigrants|       United States|    null|     null|\n",
      "|ARTEGHH1187FB435C8|  Bebo & Cigala|                    |    null|     null|\n",
      "|AR8JSAL1187FB3CE7E|            JDS|                    |    null|     null|\n",
      "|ARLRWBW1242077EB29|Mikhail Pletnev|                    |    null|     null|\n",
      "|ARDB9J71187FB4AB8B| James Yorkston|Kingsbarns, Fife,...|56.29936| -2.65978|\n",
      "|ARV1P811187FB3CFC6| Jupiter Rising|                    |    null|     null|\n",
      "|ARZPYZ11187FB4938A|    MC Esoteric|                    |    null|     null|\n",
      "|ARKZJ301187FB521B2|     Lily Allen|                 LDN|    null|     null|\n",
      "|ARGNGRI11E2835D567|    Tam Tam Go!|                    |    null|     null|\n",
      "|ARMMJ2R1187B993A72|       S.O.A.P.|             Denmark|56.27609|  9.51695|\n",
      "+------------------+---------------+--------------------+--------+---------+\n",
      "only showing top 20 rows\n",
      "\n"
     ]
    }
   ],
   "source": [
    "artists_table.show()"
   ]
  },
  {
   "cell_type": "markdown",
   "metadata": {
    "editable": true
   },
   "source": [
    "## Process Log Data   "
   ]
  },
  {
   "cell_type": "code",
   "execution_count": 21,
   "metadata": {
    "editable": true
   },
   "outputs": [],
   "source": [
    "df_log = spark.read.json(log_data)"
   ]
  },
  {
   "cell_type": "code",
   "execution_count": 22,
   "metadata": {
    "editable": true
   },
   "outputs": [
    {
     "name": "stdout",
     "output_type": "stream",
     "text": [
      "+-----------+---------+---------+------+-------------+--------+---------+-----+--------------------+------+--------+-----------------+---------+---------------+------+-------------+--------------------+------+\n",
      "|     artist|     auth|firstName|gender|itemInSession|lastName|   length|level|            location|method|    page|     registration|sessionId|           song|status|           ts|           userAgent|userId|\n",
      "+-----------+---------+---------+------+-------------+--------+---------+-----+--------------------+------+--------+-----------------+---------+---------------+------+-------------+--------------------+------+\n",
      "|   Harmonia|Logged In|     Ryan|     M|            0|   Smith|655.77751| free|San Jose-Sunnyval...|   PUT|NextSong|1.541016707796E12|      583|  Sehr kosmisch|   200|1542241826796|\"Mozilla/5.0 (X11...|    26|\n",
      "|The Prodigy|Logged In|     Ryan|     M|            1|   Smith|260.07465| free|San Jose-Sunnyval...|   PUT|NextSong|1.541016707796E12|      583|The Big Gundown|   200|1542242481796|\"Mozilla/5.0 (X11...|    26|\n",
      "|      Train|Logged In|     Ryan|     M|            2|   Smith|205.45261| free|San Jose-Sunnyval...|   PUT|NextSong|1.541016707796E12|      583|       Marry Me|   200|1542242741796|\"Mozilla/5.0 (X11...|    26|\n",
      "+-----------+---------+---------+------+-------------+--------+---------+-----+--------------------+------+--------+-----------------+---------+---------------+------+-------------+--------------------+------+\n",
      "only showing top 3 rows\n",
      "\n"
     ]
    }
   ],
   "source": [
    "df_log.show(3)"
   ]
  },
  {
   "cell_type": "code",
   "execution_count": 23,
   "metadata": {
    "editable": true
   },
   "outputs": [
    {
     "name": "stdout",
     "output_type": "stream",
     "text": [
      "root\n",
      " |-- artist: string (nullable = true)\n",
      " |-- auth: string (nullable = true)\n",
      " |-- firstName: string (nullable = true)\n",
      " |-- gender: string (nullable = true)\n",
      " |-- itemInSession: long (nullable = true)\n",
      " |-- lastName: string (nullable = true)\n",
      " |-- length: double (nullable = true)\n",
      " |-- level: string (nullable = true)\n",
      " |-- location: string (nullable = true)\n",
      " |-- method: string (nullable = true)\n",
      " |-- page: string (nullable = true)\n",
      " |-- registration: double (nullable = true)\n",
      " |-- sessionId: long (nullable = true)\n",
      " |-- song: string (nullable = true)\n",
      " |-- status: long (nullable = true)\n",
      " |-- ts: long (nullable = true)\n",
      " |-- userAgent: string (nullable = true)\n",
      " |-- userId: string (nullable = true)\n",
      "\n"
     ]
    }
   ],
   "source": [
    "df_log.printSchema()"
   ]
  },
  {
   "cell_type": "code",
   "execution_count": 24,
   "metadata": {
    "editable": true
   },
   "outputs": [],
   "source": [
    "# filter by actions for song plays\n",
    "df_log = df_log.filter(df_log.page == \"NextSong\")"
   ]
  },
  {
   "cell_type": "code",
   "execution_count": 25,
   "metadata": {
    "editable": true
   },
   "outputs": [],
   "source": [
    "# extract columns for users table  \n",
    "users_columns = [\"userId as user_id\",\n",
    "                 \"firstName as first_name\",\n",
    "                  \"lastName as last_name\",\n",
    "                   \"level\",\n",
    "                  \"gender\",\n",
    "                  \"location\"]"
   ]
  },
  {
   "cell_type": "code",
   "execution_count": 26,
   "metadata": {
    "editable": true
   },
   "outputs": [],
   "source": [
    "users_table = df_log.selectExpr(users_columns).dropDuplicates()"
   ]
  },
  {
   "cell_type": "code",
   "execution_count": 27,
   "metadata": {
    "editable": true
   },
   "outputs": [],
   "source": [
    "# write users table to parquet files\n",
    "users_table.write.mode(\"overwrite\").parquet(OUTPUT_DATA_PATH+'users_table/')"
   ]
  },
  {
   "cell_type": "code",
   "execution_count": 28,
   "metadata": {
    "editable": true
   },
   "outputs": [
    {
     "name": "stdout",
     "output_type": "stream",
     "text": [
      "+-----------+---------+---------+------+-------------+--------+---------+-----+--------------------+------+--------+-----------------+---------+---------------+------+-------------+--------------------+------+\n",
      "|     artist|     auth|firstName|gender|itemInSession|lastName|   length|level|            location|method|    page|     registration|sessionId|           song|status|           ts|           userAgent|userId|\n",
      "+-----------+---------+---------+------+-------------+--------+---------+-----+--------------------+------+--------+-----------------+---------+---------------+------+-------------+--------------------+------+\n",
      "|   Harmonia|Logged In|     Ryan|     M|            0|   Smith|655.77751| free|San Jose-Sunnyval...|   PUT|NextSong|1.541016707796E12|      583|  Sehr kosmisch|   200|1542241826796|\"Mozilla/5.0 (X11...|    26|\n",
      "|The Prodigy|Logged In|     Ryan|     M|            1|   Smith|260.07465| free|San Jose-Sunnyval...|   PUT|NextSong|1.541016707796E12|      583|The Big Gundown|   200|1542242481796|\"Mozilla/5.0 (X11...|    26|\n",
      "|      Train|Logged In|     Ryan|     M|            2|   Smith|205.45261| free|San Jose-Sunnyval...|   PUT|NextSong|1.541016707796E12|      583|       Marry Me|   200|1542242741796|\"Mozilla/5.0 (X11...|    26|\n",
      "+-----------+---------+---------+------+-------------+--------+---------+-----+--------------------+------+--------+-----------------+---------+---------------+------+-------------+--------------------+------+\n",
      "only showing top 3 rows\n",
      "\n"
     ]
    }
   ],
   "source": [
    "df_log.show(3)"
   ]
  },
  {
   "cell_type": "code",
   "execution_count": 29,
   "metadata": {
    "editable": true
   },
   "outputs": [],
   "source": [
    "df = df_log"
   ]
  },
  {
   "cell_type": "code",
   "execution_count": 30,
   "metadata": {
    "editable": true
   },
   "outputs": [
    {
     "name": "stdout",
     "output_type": "stream",
     "text": [
      "+--------+---------+---------+------+-------------+--------+---------+-----+--------------------+------+--------+-----------------+---------+-------------+------+-------------+--------------------+------+\n",
      "|  artist|     auth|firstName|gender|itemInSession|lastName|   length|level|            location|method|    page|     registration|sessionId|         song|status|           ts|           userAgent|userId|\n",
      "+--------+---------+---------+------+-------------+--------+---------+-----+--------------------+------+--------+-----------------+---------+-------------+------+-------------+--------------------+------+\n",
      "|Harmonia|Logged In|     Ryan|     M|            0|   Smith|655.77751| free|San Jose-Sunnyval...|   PUT|NextSong|1.541016707796E12|      583|Sehr kosmisch|   200|1542241826796|\"Mozilla/5.0 (X11...|    26|\n",
      "+--------+---------+---------+------+-------------+--------+---------+-----+--------------------+------+--------+-----------------+---------+-------------+------+-------------+--------------------+------+\n",
      "only showing top 1 row\n",
      "\n"
     ]
    }
   ],
   "source": [
    "df.show(1)"
   ]
  },
  {
   "cell_type": "code",
   "execution_count": 31,
   "metadata": {
    "editable": true
   },
   "outputs": [],
   "source": [
    "# create timestamp column from original timestamp column\n",
    "get_timestamp = udf(lambda x:  datetime.fromtimestamp(x/1000).strftime('%Y-%m-%d %H:%M:%S'))\n",
    "df = df.withColumn(\"timestamp\", get_timestamp(df.ts))"
   ]
  },
  {
   "cell_type": "code",
   "execution_count": 32,
   "metadata": {
    "editable": true
   },
   "outputs": [],
   "source": [
    "# create datetime column from original timestamp column\n",
    "get_datetime = udf(lambda x: datetime.fromtimestamp(x/1000).strftime('%Y-%m-%d'))\n",
    "df = df.withColumn(\"datetime\", get_datetime(df.ts))"
   ]
  },
  {
   "cell_type": "code",
   "execution_count": 33,
   "metadata": {
    "editable": true
   },
   "outputs": [
    {
     "name": "stdout",
     "output_type": "stream",
     "text": [
      "+--------+---------+---------+------+-------------+--------+---------+-----+--------------------+------+--------+-----------------+---------+-------------+------+-------------+--------------------+------+-------------------+----------+\n",
      "|  artist|     auth|firstName|gender|itemInSession|lastName|   length|level|            location|method|    page|     registration|sessionId|         song|status|           ts|           userAgent|userId|          timestamp|  datetime|\n",
      "+--------+---------+---------+------+-------------+--------+---------+-----+--------------------+------+--------+-----------------+---------+-------------+------+-------------+--------------------+------+-------------------+----------+\n",
      "|Harmonia|Logged In|     Ryan|     M|            0|   Smith|655.77751| free|San Jose-Sunnyval...|   PUT|NextSong|1.541016707796E12|      583|Sehr kosmisch|   200|1542241826796|\"Mozilla/5.0 (X11...|    26|2018-11-15 00:30:26|2018-11-15|\n",
      "+--------+---------+---------+------+-------------+--------+---------+-----+--------------------+------+--------+-----------------+---------+-------------+------+-------------+--------------------+------+-------------------+----------+\n",
      "only showing top 1 row\n",
      "\n"
     ]
    }
   ],
   "source": [
    "df.show(1)"
   ]
  },
  {
   "cell_type": "markdown",
   "metadata": {
    "editable": true
   },
   "source": [
    "## datetime and timestamp NOT NULL now "
   ]
  },
  {
   "cell_type": "code",
   "execution_count": 34,
   "metadata": {
    "editable": true
   },
   "outputs": [],
   "source": [
    "# extract columns to create time table\n",
    "time_table = df.select(\n",
    "        col('timestamp').alias('start_time'),\n",
    "        hour('timestamp').alias('hour'),\n",
    "        dayofmonth('timestamp').alias('day'),\n",
    "        weekofyear('timestamp').alias('week'),\n",
    "        month('timestamp').alias('month'),\n",
    "        year('timestamp').alias('year') \n",
    "   )"
   ]
  },
  {
   "cell_type": "code",
   "execution_count": 35,
   "metadata": {
    "editable": true
   },
   "outputs": [
    {
     "name": "stdout",
     "output_type": "stream",
     "text": [
      "+-------------------+----+---+----+-----+----+\n",
      "|         start_time|hour|day|week|month|year|\n",
      "+-------------------+----+---+----+-----+----+\n",
      "|2018-11-15 00:30:26|   0| 15|  46|   11|2018|\n",
      "|2018-11-15 00:41:21|   0| 15|  46|   11|2018|\n",
      "|2018-11-15 00:45:41|   0| 15|  46|   11|2018|\n",
      "|2018-11-15 03:44:09|   3| 15|  46|   11|2018|\n",
      "|2018-11-15 05:48:55|   5| 15|  46|   11|2018|\n",
      "|2018-11-15 05:53:44|   5| 15|  46|   11|2018|\n",
      "|2018-11-15 05:55:56|   5| 15|  46|   11|2018|\n",
      "|2018-11-15 06:01:02|   6| 15|  46|   11|2018|\n",
      "|2018-11-15 06:07:37|   6| 15|  46|   11|2018|\n",
      "|2018-11-15 06:10:33|   6| 15|  46|   11|2018|\n",
      "|2018-11-15 06:13:54|   6| 15|  46|   11|2018|\n",
      "|2018-11-15 06:14:16|   6| 15|  46|   11|2018|\n",
      "|2018-11-15 06:17:59|   6| 15|  46|   11|2018|\n",
      "|2018-11-15 06:18:48|   6| 15|  46|   11|2018|\n",
      "|2018-11-15 06:21:33|   6| 15|  46|   11|2018|\n",
      "|2018-11-15 06:25:58|   6| 15|  46|   11|2018|\n",
      "|2018-11-15 06:29:38|   6| 15|  46|   11|2018|\n",
      "|2018-11-15 07:08:36|   7| 15|  46|   11|2018|\n",
      "|2018-11-15 07:12:09|   7| 15|  46|   11|2018|\n",
      "|2018-11-15 07:28:47|   7| 15|  46|   11|2018|\n",
      "+-------------------+----+---+----+-----+----+\n",
      "only showing top 20 rows\n",
      "\n"
     ]
    }
   ],
   "source": [
    "time_table.show()"
   ]
  },
  {
   "cell_type": "code",
   "execution_count": 36,
   "metadata": {
    "editable": true
   },
   "outputs": [],
   "source": [
    "# write time table to parquet files partitioned by year and month\n",
    "time_table.write.mode(\"overwrite\").partitionBy(\"year\", \"month\").parquet(OUTPUT_DATA_PATH + \"time_table/\")"
   ]
  },
  {
   "cell_type": "code",
   "execution_count": 37,
   "metadata": {
    "editable": true
   },
   "outputs": [],
   "source": [
    "# read in song data to use for songplays table\n",
    "song_data = os.path.join(INPUT_BUCKET, SONG_DATA_PATH)\n",
    "song_df = spark.read.json(song_data)"
   ]
  },
  {
   "cell_type": "code",
   "execution_count": 38,
   "metadata": {
    "editable": true
   },
   "outputs": [
    {
     "name": "stdout",
     "output_type": "stream",
     "text": [
      "+------------------+---------------+---------------+----------------+--------------------+----------+---------+------------------+--------------------+----+\n",
      "|         artist_id|artist_latitude|artist_location|artist_longitude|         artist_name|  duration|num_songs|           song_id|               title|year|\n",
      "+------------------+---------------+---------------+----------------+--------------------+----------+---------+------------------+--------------------+----+\n",
      "|ARSUVLW12454A4C8B8|       35.83073|      Tennessee|       -85.97874|Royal Philharmoni...|  94.56281|        1|SOBTCUI12A8AE48B70|Faust: Ballet Mus...|   0|\n",
      "|ARXQC081187FB4AD42|       54.31407|             UK|        -2.23001|William Shatner_ ...|1047.71873|        1|SOXRPUH12AB017F769|Exodus: Part I: M...|   0|\n",
      "|ARWUNH81187FB4A3E0|           null|Miami , Florida|            null|         Trick Daddy| 227.10812|        1|SOVNKJI12A8C13CB0D|Take It To Da Hou...|2001|\n",
      "+------------------+---------------+---------------+----------------+--------------------+----------+---------+------------------+--------------------+----+\n",
      "only showing top 3 rows\n",
      "\n"
     ]
    }
   ],
   "source": [
    "song_df.show(3)"
   ]
  },
  {
   "cell_type": "code",
   "execution_count": 54,
   "metadata": {
    "editable": true
   },
   "outputs": [],
   "source": [
    "songplays_table = song_df.select(\n",
    "    col(\"artist_id\"),\n",
    "    col(\"artist_name\"),\n",
    "    col(\"duration\"),\n",
    "     col('song_id'),\n",
    "    col('title')\n",
    "     )"
   ]
  },
  {
   "cell_type": "code",
   "execution_count": 55,
   "metadata": {
    "editable": true
   },
   "outputs": [
    {
     "name": "stdout",
     "output_type": "stream",
     "text": [
      "+------------------+--------------------+----------+------------------+--------------------+\n",
      "|         artist_id|         artist_name|  duration|           song_id|               title|\n",
      "+------------------+--------------------+----------+------------------+--------------------+\n",
      "|ARSUVLW12454A4C8B8|Royal Philharmoni...|  94.56281|SOBTCUI12A8AE48B70|Faust: Ballet Mus...|\n",
      "|ARXQC081187FB4AD42|William Shatner_ ...|1047.71873|SOXRPUH12AB017F769|Exodus: Part I: M...|\n",
      "|ARWUNH81187FB4A3E0|         Trick Daddy| 227.10812|SOVNKJI12A8C13CB0D|Take It To Da Hou...|\n",
      "|ARTC1LV1187B9A4858|  The Bonzo Dog Band| 301.40036|SOAFBCP12A8C13CC7D|King Of Scurf (20...|\n",
      "|ARA23XO1187B9AF18F|     The Smithereens|   192.522|SOKTJDS12AF72A25E5|Drown In My Own T...|\n",
      "|ARLRWBW1242077EB29|     Mikhail Pletnev| 221.70077|SOYVBGZ12A6D4F92A8|Piano Sonata No. ...|\n",
      "|AR5LZJD1187FB4C5E5|        Britt Nicole| 204.06812|SOGXFIF12A58A78CC4|Hanging On (Mediu...|\n",
      "|ARV3PXE1187B98E680|   John Brown's Body| 289.01832|SOQAUGD12A58A7A92D|The Gold (Dubmati...|\n",
      "|AR6PJ8R1187FB5AD70|Shakira Featuring...| 217.36444|SOEHWGF12A6D4F8B2B|Hips Don't Lie (f...|\n",
      "|ARWDPT81187B99C656|           The Kooks| 173.63546|SOYQDUJ12A8C13F773|Shine On (Acousti...|\n",
      "|ARMAC4T1187FB3FA4C|The Dillinger Esc...| 207.77751|SOBBUGU12A8C13E95D|Setting Fire to S...|\n",
      "|ARSVTNL1187B992A91|       Jonathan King| 129.85424|SOEKAZG12AB018837E|I'll Slap Your Fa...|\n",
      "|ARKIQCZ1187B9A7C7C|             Bauhaus| 248.65914|SOSIJKW12A8C1330E3|A God In An Alcov...|\n",
      "|ARZEWUR1187FB53DC8|           Enthroned| 240.74404|SOXCWTT12AC9075756| The Vitalized Shell|\n",
      "|ARZ5VKP1187FB3BB2F|       Sister Sledge| 227.60444|SOAXZZG12A6D4FA49D|Make A Move (2006...|\n",
      "|ARV2V751187FB4330F|Rah Digga (Featur...| 256.80934|SOSYVIZ12A8C141964|The Last Word (Am...|\n",
      "|ARKGS2Z1187FB494B5|       Crowded House| 335.93424|SODBHKO12A58A77F36|Fingers Of Love (...|\n",
      "|ARDNS031187B9924F0|          Tim Wilson| 186.48771|SONYPOM12A8C13B2D7|I Think My Wife I...|\n",
      "|ARS927Z1187B9ACA29|        Robert Plant| 284.44689|SOFKLRD12A58A7C947|Funny In My Mind ...|\n",
      "|ARUG14R1187FB3E2E8|                Ozma| 258.06322|SOLGAPB12A8C13EA19|Flight Of The Boo...|\n",
      "+------------------+--------------------+----------+------------------+--------------------+\n",
      "only showing top 20 rows\n",
      "\n"
     ]
    }
   ],
   "source": [
    "songplays_table.show()"
   ]
  },
  {
   "cell_type": "code",
   "execution_count": 56,
   "metadata": {
    "editable": true
   },
   "outputs": [
    {
     "name": "stdout",
     "output_type": "stream",
     "text": [
      "root\n",
      " |-- artist: string (nullable = true)\n",
      " |-- auth: string (nullable = true)\n",
      " |-- firstName: string (nullable = true)\n",
      " |-- gender: string (nullable = true)\n",
      " |-- itemInSession: long (nullable = true)\n",
      " |-- lastName: string (nullable = true)\n",
      " |-- length: double (nullable = true)\n",
      " |-- level: string (nullable = true)\n",
      " |-- location: string (nullable = true)\n",
      " |-- method: string (nullable = true)\n",
      " |-- page: string (nullable = true)\n",
      " |-- registration: double (nullable = true)\n",
      " |-- sessionId: long (nullable = true)\n",
      " |-- song: string (nullable = true)\n",
      " |-- status: long (nullable = true)\n",
      " |-- ts: long (nullable = true)\n",
      " |-- userAgent: string (nullable = true)\n",
      " |-- userId: string (nullable = true)\n",
      " |-- timestamp: string (nullable = true)\n",
      " |-- datetime: string (nullable = true)\n",
      "\n"
     ]
    }
   ],
   "source": [
    "df.printSchema()"
   ]
  },
  {
   "cell_type": "code",
   "execution_count": 57,
   "metadata": {
    "editable": true
   },
   "outputs": [],
   "source": [
    "df2 = df.select(\n",
    "        col('ts').alias('ts'),\n",
    "        col('userId').alias('user_id'),\n",
    "        col('level').alias('level'),\n",
    "        col('location').alias('location'),\n",
    "        col('userAgent').alias('user_agent'),\n",
    "        month('datetime').alias('month'),\n",
    "        year('datetime').alias('year'),\n",
    "        col(\"song\")\n",
    "                )"
   ]
  },
  {
   "cell_type": "code",
   "execution_count": 58,
   "metadata": {
    "editable": true
   },
   "outputs": [
    {
     "name": "stdout",
     "output_type": "stream",
     "text": [
      "+-------------+-------+-----+--------------------+--------------------+-----+----+---------------+\n",
      "|           ts|user_id|level|            location|          user_agent|month|year|           song|\n",
      "+-------------+-------+-----+--------------------+--------------------+-----+----+---------------+\n",
      "|1542241826796|     26| free|San Jose-Sunnyval...|\"Mozilla/5.0 (X11...|   11|2018|  Sehr kosmisch|\n",
      "|1542242481796|     26| free|San Jose-Sunnyval...|\"Mozilla/5.0 (X11...|   11|2018|The Big Gundown|\n",
      "|1542242741796|     26| free|San Jose-Sunnyval...|\"Mozilla/5.0 (X11...|   11|2018|       Marry Me|\n",
      "|1542253449796|     61| free|Houston-The Woodl...|\"Mozilla/5.0 (Mac...|   11|2018|      Blackbird|\n",
      "+-------------+-------+-----+--------------------+--------------------+-----+----+---------------+\n",
      "only showing top 4 rows\n",
      "\n"
     ]
    }
   ],
   "source": [
    "df2.show(4)"
   ]
  },
  {
   "cell_type": "code",
   "execution_count": 59,
   "metadata": {
    "editable": true
   },
   "outputs": [],
   "source": [
    "total = df2.join(songplays_table, songplays_table.title == df2.song)"
   ]
  },
  {
   "cell_type": "code",
   "execution_count": 45,
   "metadata": {
    "editable": true
   },
   "outputs": [
    {
     "data": {
      "text/plain": [
       "55"
      ]
     },
     "execution_count": 45,
     "metadata": {},
     "output_type": "execute_result"
    }
   ],
   "source": [
    "total.count()"
   ]
  },
  {
   "cell_type": "code",
   "execution_count": 60,
   "metadata": {
    "editable": true
   },
   "outputs": [
    {
     "name": "stdout",
     "output_type": "stream",
     "text": [
      "+-------------+-------+-----+--------------------+--------------------+-----+----+-----------------+------------------+--------------------+---------+------------------+-----------------+\n",
      "|           ts|user_id|level|            location|          user_agent|month|year|             song|         artist_id|         artist_name| duration|           song_id|            title|\n",
      "+-------------+-------+-----+--------------------+--------------------+-----+----+-----------------+------------------+--------------------+---------+------------------+-----------------+\n",
      "|1542287824796|     30| paid|San Jose-Sunnyval...|Mozilla/5.0 (Wind...|   11|2018|            Crazy|ARAGJTD1187B9A8646|P Money ft. Littl...|223.84281|SOUPKAB12AB0185DF9|            Crazy|\n",
      "|1542293170796|     30| paid|San Jose-Sunnyval...|Mozilla/5.0 (Wind...|   11|2018|         Elevator|AR7WK5411A348EF5EA|        Minitel Rose|248.31955|SOTCOTZ12A8C136BCB|         Elevator|\n",
      "|1542298745796|     97| paid|Lansing-East Lans...|\"Mozilla/5.0 (X11...|   11|2018|           Scream|ARJNIUY12298900C91|        Adelitas Way| 213.9424|SOBLFFE12AF72AA5BA|           Scream|\n",
      "|1542303865796|     97| paid|Lansing-East Lans...|\"Mozilla/5.0 (X11...|   11|2018|             Hate|AR9ODB41187FB459B2| Organized Konfusion| 198.3473|SOFXNQP12AB0184F1A|             Hate|\n",
      "|1542766578796|     97| paid|Lansing-East Lans...|\"Mozilla/5.0 (X11...|   11|2018|   Speed Of Sound|AR8368J1187FB4CFF3|          Chris Bell|315.01016|SONKSNV12A58A7F654|   Speed Of Sound|\n",
      "|1542767974796|     80| paid|Portland-South Po...|\"Mozilla/5.0 (Mac...|   11|2018|            Drama|AROJWW21187FB574E6|    Sanne Salomonsen|195.02975|SOCKYOP12A58A7C4EC|            Drama|\n",
      "|1542837407796|     15| paid|Chicago-Napervill...|\"Mozilla/5.0 (X11...|   11|2018|   Setanta matins|AR5KOSW1187FB35FF4|               Elena|269.58322|SOZCTXZ12AB0182364|   Setanta matins|\n",
      "|1542171963796|     10| free|Washington-Arling...|\"Mozilla/5.0 (Mac...|   11|2018|            Intro|AR3T4DT1187B9A00AF|              Shihad| 64.73098|SOSQXOJ12A8AE46E3A|            Intro|\n",
      "|1542171963796|     10| free|Washington-Arling...|\"Mozilla/5.0 (Mac...|   11|2018|            Intro|AR6ZBSM1187B990030|             Refused| 91.42812|SOFNHTC12A8C13BBC9|            Intro|\n",
      "|1542171963796|     10| free|Washington-Arling...|\"Mozilla/5.0 (Mac...|   11|2018|            Intro|AR8W8P31187B9A4063|         Lauryn Hill|150.59546|SOFEAMD12AB017F1C2|            Intro|\n",
      "|1542175469796|     80| paid|Portland-South Po...|\"Mozilla/5.0 (Mac...|   11|2018|             Rain|ARSCE3D1187B9A70B5|           Lynch Mob|293.95546|SOSWZZV12A81C22DF1|             Rain|\n",
      "|1542218751796|     80| paid|Portland-South Po...|\"Mozilla/5.0 (Mac...|   11|2018|         Exchange|ARLDW6Z1187FB3F2A0|    Abraham Laboriel|368.16934|SOIRGRL12AB0186BC2|         Exchange|\n",
      "|1542221435796|     80| paid|Portland-South Po...|\"Mozilla/5.0 (Mac...|   11|2018|             Sick|AR7FMHB1187FB443E9|Coburn feat. Prin...|189.88363|SOJRMKC12A8C13AD5E|             Sick|\n",
      "|1543431151796|     24| paid|Lake Havasu City-...|\"Mozilla/5.0 (Win...|   11|2018|            Smile|ARNIFX51187FB418EA|           Xcultures|  38.3473|SOJRCDU12AB0189D27|            Smile|\n",
      "|1543440324796|     24| paid|Lake Havasu City-...|\"Mozilla/5.0 (Win...|   11|2018|            Smile|ARNIFX51187FB418EA|           Xcultures|  38.3473|SOJRCDU12AB0189D27|            Smile|\n",
      "|1541386758796|     52| free|Houston-The Woodl...|Mozilla/5.0 (Wind...|   11|2018|     The Only One|ARAFI9R1187B9AC5B5|      Culture Kultür|413.54404|SOTEOMG12AB0184E70|     The Only One|\n",
      "|1541440182796|     73| paid|Tampa-St. Petersb...|\"Mozilla/5.0 (Mac...|   11|2018|I Want A New Drug|ARC0IOF1187FB3F6E6|Huey Lewis & The ...| 286.4322|SOHDWWH12A6D4F7F6A|I Want A New Drug|\n",
      "|1542106645796|     44| paid|Waterloo-Cedar Fa...|Mozilla/5.0 (Maci...|   11|2018|             Rain|ARSCE3D1187B9A70B5|           Lynch Mob|293.95546|SOSWZZV12A81C22DF1|             Rain|\n",
      "|1542125570796|     37| free|         Salinas, CA|\"Mozilla/5.0 (Mac...|   11|2018|            Smile|ARNIFX51187FB418EA|           Xcultures|  38.3473|SOJRCDU12AB0189D27|            Smile|\n",
      "|1542140035796|     95| paid|   Winston-Salem, NC|\"Mozilla/5.0 (iPh...|   11|2018|            Crazy|ARAGJTD1187B9A8646|P Money ft. Littl...|223.84281|SOUPKAB12AB0185DF9|            Crazy|\n",
      "+-------------+-------+-----+--------------------+--------------------+-----+----+-----------------+------------------+--------------------+---------+------------------+-----------------+\n",
      "only showing top 20 rows\n",
      "\n"
     ]
    }
   ],
   "source": [
    "total.show()"
   ]
  },
  {
   "cell_type": "code",
   "execution_count": 65,
   "metadata": {
    "editable": true
   },
   "outputs": [],
   "source": [
    "songplays_table = total"
   ]
  },
  {
   "cell_type": "code",
   "execution_count": 66,
   "metadata": {
    "editable": true
   },
   "outputs": [
    {
     "name": "stdout",
     "output_type": "stream",
     "text": [
      "+-------------+-------+-----+--------------------+--------------------+-----+----+--------------+------------------+--------------------+---------+------------------+--------------+\n",
      "|           ts|user_id|level|            location|          user_agent|month|year|          song|         artist_id|         artist_name| duration|           song_id|         title|\n",
      "+-------------+-------+-----+--------------------+--------------------+-----+----+--------------+------------------+--------------------+---------+------------------+--------------+\n",
      "|1542287824796|     30| paid|San Jose-Sunnyval...|Mozilla/5.0 (Wind...|   11|2018|         Crazy|ARAGJTD1187B9A8646|P Money ft. Littl...|223.84281|SOUPKAB12AB0185DF9|         Crazy|\n",
      "|1542293170796|     30| paid|San Jose-Sunnyval...|Mozilla/5.0 (Wind...|   11|2018|      Elevator|AR7WK5411A348EF5EA|        Minitel Rose|248.31955|SOTCOTZ12A8C136BCB|      Elevator|\n",
      "|1542298745796|     97| paid|Lansing-East Lans...|\"Mozilla/5.0 (X11...|   11|2018|        Scream|ARJNIUY12298900C91|        Adelitas Way| 213.9424|SOBLFFE12AF72AA5BA|        Scream|\n",
      "|1542303865796|     97| paid|Lansing-East Lans...|\"Mozilla/5.0 (X11...|   11|2018|          Hate|AR9ODB41187FB459B2| Organized Konfusion| 198.3473|SOFXNQP12AB0184F1A|          Hate|\n",
      "|1542766578796|     97| paid|Lansing-East Lans...|\"Mozilla/5.0 (X11...|   11|2018|Speed Of Sound|AR8368J1187FB4CFF3|          Chris Bell|315.01016|SONKSNV12A58A7F654|Speed Of Sound|\n",
      "+-------------+-------+-----+--------------------+--------------------+-----+----+--------------+------------------+--------------------+---------+------------------+--------------+\n",
      "only showing top 5 rows\n",
      "\n"
     ]
    }
   ],
   "source": [
    "songplays_table.show(5)OUTPUT_DATA_PATH"
   ]
  },
  {
   "cell_type": "code",
   "execution_count": 67,
   "metadata": {
    "editable": true
   },
   "outputs": [
    {
     "name": "stdout",
     "output_type": "stream",
     "text": [
      "root\n",
      " |-- ts: long (nullable = true)\n",
      " |-- user_id: string (nullable = true)\n",
      " |-- level: string (nullable = true)\n",
      " |-- location: string (nullable = true)\n",
      " |-- user_agent: string (nullable = true)\n",
      " |-- month: integer (nullable = true)\n",
      " |-- year: integer (nullable = true)\n",
      " |-- song: string (nullable = true)\n",
      " |-- artist_id: string (nullable = true)\n",
      " |-- artist_name: string (nullable = true)\n",
      " |-- duration: double (nullable = true)\n",
      " |-- song_id: string (nullable = true)\n",
      " |-- title: string (nullable = true)\n",
      "\n"
     ]
    }
   ],
   "source": [
    "songplays_table.printSchema()"
   ]
  },
  {
   "cell_type": "code",
   "execution_count": 69,
   "metadata": {
    "editable": true
   },
   "outputs": [],
   "source": [
    "# write songplays table to parquet files partitioned by year and month\n",
    "songplays_table.write.mode(\"overwrite\").partitionBy(\"year\", \"month\").parquet(OUTPUT_DATA_PATH+'songplays/')"
   ]
  },
  {
   "cell_type": "code",
   "execution_count": null,
   "metadata": {
    "editable": true
   },
   "outputs": [],
   "source": []
  },
  {
   "cell_type": "code",
   "execution_count": null,
   "metadata": {
    "editable": true
   },
   "outputs": [],
   "source": []
  },
  {
   "cell_type": "code",
   "execution_count": null,
   "metadata": {
    "editable": true
   },
   "outputs": [],
   "source": []
  },
  {
   "cell_type": "code",
   "execution_count": null,
   "metadata": {
    "editable": true
   },
   "outputs": [],
   "source": []
  },
  {
   "cell_type": "code",
   "execution_count": null,
   "metadata": {
    "editable": true
   },
   "outputs": [],
   "source": []
  },
  {
   "cell_type": "code",
   "execution_count": null,
   "metadata": {
    "editable": true
   },
   "outputs": [],
   "source": []
  },
  {
   "cell_type": "code",
   "execution_count": null,
   "metadata": {
    "editable": true
   },
   "outputs": [],
   "source": []
  },
  {
   "cell_type": "code",
   "execution_count": null,
   "metadata": {
    "editable": true
   },
   "outputs": [],
   "source": []
  },
  {
   "cell_type": "code",
   "execution_count": null,
   "metadata": {
    "editable": true
   },
   "outputs": [],
   "source": [
    "## https://knowledge.udacity.com/questions/652188\n",
    "## https://knowledge.udacity.com/questions/67777"
   ]
  },
  {
   "cell_type": "code",
   "execution_count": null,
   "metadata": {
    "editable": true
   },
   "outputs": [],
   "source": []
  }
 ],
 "metadata": {
  "kernelspec": {
   "display_name": "Python 3",
   "language": "python",
   "name": "python3"
  },
  "language_info": {
   "codemirror_mode": {
    "name": "ipython",
    "version": 3
   },
   "file_extension": ".py",
   "mimetype": "text/x-python",
   "name": "python",
   "nbconvert_exporter": "python",
   "pygments_lexer": "ipython3",
   "version": "3.6.3"
  }
 },
 "nbformat": 4,
 "nbformat_minor": 4
}
