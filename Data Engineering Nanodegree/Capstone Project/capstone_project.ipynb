{
 "cells": [
  {
   "cell_type": "markdown",
   "metadata": {
    "editable": true
   },
   "source": [
    "# Project Title\n",
    "### Data Engineering Capstone Project\n",
    "\n",
    "#### Project Summary\n",
    "This project aims to be able to answers questions on US immigration such as what are the most popular cities for immigration, what is the gender and age distribution of the immigrants, what is the visa type distribution of the immigrants, what is the average age per immigrant and what is the average temperature per month per city. We extract data from 4 different sources, the I94 immigration dataset of 2010, temperature data from Kaggle and US city demographic data from OpenSoft and Airport dataset from kaggle. We design 4 dimension tables: immigration table, airport table, temperature table,demographic table and 1 fact table: Immigration_US. We use Spark for ETL jobs and store the results in parquet for downstream analysis.\n",
    "\n",
    "The project follows the follow steps:\n",
    "* Step 1: Scope the Project and Gather Data\n",
    "* Step 2: Explore and Assess the Data\n",
    "* Step 3: Define the Data Model\n",
    "* Step 4: Run ETL to Model the Data\n",
    "* Step 5: Complete Project Write Up"
   ]
  },
  {
   "cell_type": "code",
   "execution_count": 2,
   "metadata": {
    "editable": true
   },
   "outputs": [],
   "source": [
    "# Do all imports and installs here\n",
    "import pandas as pd\n",
    "import os\n",
    "import glob\n",
    "from pyspark.sql import SparkSession, SQLContext, GroupedData\n",
    "from pyspark.sql.functions import *"
   ]
  },
  {
   "cell_type": "code",
   "execution_count": 3,
   "metadata": {
    "editable": true
   },
   "outputs": [],
   "source": [
    "#Build spark session\n",
    "#Build spark session\n",
    "spark = spark = SparkSession.builder.getOrCreate()"
   ]
  },
  {
   "cell_type": "code",
   "execution_count": 4,
   "metadata": {
    "editable": true
   },
   "outputs": [],
   "source": [
    "#Build SQL context object\n",
    "sqlContext = SQLContext(spark)"
   ]
  },
  {
   "cell_type": "markdown",
   "metadata": {
    "editable": true
   },
   "source": [
    "### Step 1: Scope the Project and Gather Data\n",
    "\n",
    "#### Scope \n",
    "Explain what you plan to do in the project in more detail. What data do you use? What is your end solution look like? What tools did you use? etc>\n",
    "\n",
    "#### Describe and Gather Data \n",
    "Describe the data sets you're using. Where did it come from? What type of information is included? "
   ]
  },
  {
   "cell_type": "markdown",
   "metadata": {
    "editable": true
   },
   "source": [
    "# U.S. City Demographic Data\n",
    "* This dataset contains information about the demographics of all US cities and census-designated places with a population greater or equal to 65,000. \n",
    "\n",
    "* This data comes from the US Census Bureau's 2015 American Community Survey.\n",
    "* Check data from here https://public.opendatasoft.com/explore/dataset/us-cities-demographics/export/"
   ]
  },
  {
   "cell_type": "code",
   "execution_count": 5,
   "metadata": {
    "editable": true
   },
   "outputs": [],
   "source": [
    "# Read in the data here\n",
    "df_demographics=spark.read.format(\"csv\").option(\"header\", \"true\").option(\"delimiter\", \";\").load(\"us-cities-demographics.csv\")"
   ]
  },
  {
   "cell_type": "code",
   "execution_count": 6,
   "metadata": {
    "editable": true
   },
   "outputs": [
    {
     "name": "stdout",
     "output_type": "stream",
     "text": [
      "+-------------+-------------+----------+---------------+-----------------+----------------+------------------+------------+----------------------+----------+------------------+-----+\n",
      "|         City|        State|Median Age|Male Population|Female Population|Total Population|Number of Veterans|Foreign-born|Average Household Size|State Code|              Race|Count|\n",
      "+-------------+-------------+----------+---------------+-----------------+----------------+------------------+------------+----------------------+----------+------------------+-----+\n",
      "|Silver Spring|     Maryland|      33.8|          40601|            41862|           82463|              1562|       30908|                   2.6|        MD|Hispanic or Latino|25924|\n",
      "|       Quincy|Massachusetts|      41.0|          44129|            49500|           93629|              4147|       32935|                  2.39|        MA|             White|58723|\n",
      "|       Hoover|      Alabama|      38.5|          38040|            46799|           84839|              4819|        8229|                  2.58|        AL|             Asian| 4759|\n",
      "+-------------+-------------+----------+---------------+-----------------+----------------+------------------+------------+----------------------+----------+------------------+-----+\n",
      "only showing top 3 rows\n",
      "\n"
     ]
    }
   ],
   "source": [
    "df_demographics.show(3)"
   ]
  },
  {
   "cell_type": "code",
   "execution_count": 7,
   "metadata": {
    "editable": true
   },
   "outputs": [
    {
     "data": {
      "text/plain": [
       "2891"
      ]
     },
     "execution_count": 7,
     "metadata": {},
     "output_type": "execute_result"
    }
   ],
   "source": [
    "df_demographics.count()"
   ]
  },
  {
   "cell_type": "markdown",
   "metadata": {
    "editable": true
   },
   "source": [
    "# Airport Code Data\n",
    "* The airport codes may refer to either IATA airport code, a three-letter code which is used in passenger reservation, ticketing and baggage-handling systems, or the ICAO airport code which is a four letter code used by ATC systems and for airports that do not have an IATA airport code (from wikipedia).\n",
    "* Check from here https://datahub.io/core/airport-codes#readme"
   ]
  },
  {
   "cell_type": "code",
   "execution_count": 8,
   "metadata": {
    "editable": true
   },
   "outputs": [],
   "source": [
    "df_airports=spark.read.format(\"csv\").option(\"header\", \"true\").load(\"airport-codes_csv.csv\")"
   ]
  },
  {
   "cell_type": "code",
   "execution_count": 9,
   "metadata": {
    "editable": true
   },
   "outputs": [
    {
     "name": "stdout",
     "output_type": "stream",
     "text": [
      "+-----+-------------+--------------------+------------+---------+-----------+----------+------------+--------+---------+----------+--------------------+\n",
      "|ident|         type|                name|elevation_ft|continent|iso_country|iso_region|municipality|gps_code|iata_code|local_code|         coordinates|\n",
      "+-----+-------------+--------------------+------------+---------+-----------+----------+------------+--------+---------+----------+--------------------+\n",
      "|  00A|     heliport|   Total Rf Heliport|          11|       NA|         US|     US-PA|    Bensalem|     00A|     null|       00A|-74.9336013793945...|\n",
      "| 00AA|small_airport|Aero B Ranch Airport|        3435|       NA|         US|     US-KS|       Leoti|    00AA|     null|      00AA|-101.473911, 38.7...|\n",
      "| 00AK|small_airport|        Lowell Field|         450|       NA|         US|     US-AK|Anchor Point|    00AK|     null|      00AK|-151.695999146, 5...|\n",
      "+-----+-------------+--------------------+------------+---------+-----------+----------+------------+--------+---------+----------+--------------------+\n",
      "only showing top 3 rows\n",
      "\n"
     ]
    }
   ],
   "source": [
    "df_airports.show(3)"
   ]
  },
  {
   "cell_type": "code",
   "execution_count": 10,
   "metadata": {
    "editable": true
   },
   "outputs": [
    {
     "data": {
      "text/plain": [
       "55075"
      ]
     },
     "execution_count": 10,
     "metadata": {},
     "output_type": "execute_result"
    }
   ],
   "source": [
    "df_airports.count()"
   ]
  },
  {
   "cell_type": "markdown",
   "metadata": {
    "editable": true
   },
   "source": [
    "# World Temperature Data\n",
    "* climate change is the biggest threat of our age while others say it’s a myth based on dodgy science. We are turning some of the data over to you so you can form your own view.\n",
    "* This dataset came from Kaggle. \n",
    "* Check from here https://www.kaggle.com/berkeleyearth/climate-change-earth-surface-temperature-data"
   ]
  },
  {
   "cell_type": "code",
   "execution_count": 11,
   "metadata": {
    "editable": true
   },
   "outputs": [],
   "source": [
    "#temp_path = '../../data2/GlobalLandTemperaturesByCity.csv'\n",
    "#df_temp = pd.read_csv(temp_path)"
   ]
  },
  {
   "cell_type": "code",
   "execution_count": 12,
   "metadata": {
    "editable": true
   },
   "outputs": [],
   "source": [
    "df_temperature=spark.read.format(\"csv\").option(\"header\", \"true\").load(\"df_temp.csv\")"
   ]
  },
  {
   "cell_type": "code",
   "execution_count": 13,
   "metadata": {
    "editable": true
   },
   "outputs": [
    {
     "name": "stdout",
     "output_type": "stream",
     "text": [
      "+----------+------------------+-----------------------------+-----+-------+--------+---------+\n",
      "|        dt|AverageTemperature|AverageTemperatureUncertainty| City|Country|Latitude|Longitude|\n",
      "+----------+------------------+-----------------------------+-----+-------+--------+---------+\n",
      "|1743-11-01|             6.068|           1.7369999999999999|Århus|Denmark|  57.05N|   10.33E|\n",
      "|1743-12-01|              null|                         null|Århus|Denmark|  57.05N|   10.33E|\n",
      "|1744-01-01|              null|                         null|Århus|Denmark|  57.05N|   10.33E|\n",
      "+----------+------------------+-----------------------------+-----+-------+--------+---------+\n",
      "only showing top 3 rows\n",
      "\n"
     ]
    }
   ],
   "source": [
    "df_temperature.show(3)"
   ]
  },
  {
   "cell_type": "code",
   "execution_count": 14,
   "metadata": {
    "editable": true
   },
   "outputs": [
    {
     "data": {
      "text/plain": [
       "8599212"
      ]
     },
     "execution_count": 14,
     "metadata": {},
     "output_type": "execute_result"
    }
   ],
   "source": [
    "df_temperature.count()"
   ]
  },
  {
   "cell_type": "markdown",
   "metadata": {
    "editable": true
   },
   "source": [
    "# I94 Immigration Data"
   ]
  },
  {
   "cell_type": "markdown",
   "metadata": {
    "editable": true
   },
   "source": [
    "* This data comes from the US National Tourism and Trade Office. This is where the data comes from. There's a sample file so you can take a look at the data in csv format before reading it all in.\n",
    "\n",
    "* The National Travel and Tourism Office (NTTO) functions as the U.S. federal tourism office. A core responsibility is to collect, analyze, and disseminate international travel and tourism statistics. As a result, NTTO is charged with managing, improving, and expanding the system to fully account and report the impact of travel and tourism in the United States.\n",
    "\n",
    "### I-94 Visitor Arrivals Program\n",
    "* The National Travel and Tourism Office (NTTO) works cooperatively with the U.S. Department of Homeland Security (DHS)/U.S. Customs and Border Protection (CBP) to release I-94 Visitor Arrivals Program data, providing a comprehensive count of all visitors (overseas all travel modes plus Mexico air and sea) entering the United States. "
   ]
  },
  {
   "cell_type": "code",
   "execution_count": 15,
   "metadata": {
    "editable": true
   },
   "outputs": [],
   "source": [
    "# Read in the data here\n",
    "## will took some minutes\n",
    "#i94_path = '../../data/18-83510-I94-Data-2016/i94_apr16_sub.sas7bdat'\n",
    "#df_i94 = pd.read_sas(i94_path, 'sas7bdat', encoding=\"ISO-8859-1\")"
   ]
  },
  {
   "cell_type": "code",
   "execution_count": 16,
   "metadata": {
    "editable": true
   },
   "outputs": [],
   "source": [
    "df_immegration_i94=spark.read.format(\"csv\").option(\"header\", \"true\").load(\"df_i94.csv\")"
   ]
  },
  {
   "cell_type": "code",
   "execution_count": 17,
   "metadata": {
    "editable": true
   },
   "outputs": [
    {
     "name": "stdout",
     "output_type": "stream",
     "text": [
      "+-----+------+------+------+------+-------+-------+-------+-------+-------+------+-------+-----+----------+--------+-----+-------+-------+-------+-------+-------+--------+------+------+-------+------------+-----+--------+\n",
      "|cicid| i94yr|i94mon|i94cit|i94res|i94port|arrdate|i94mode|i94addr|depdate|i94bir|i94visa|count|  dtadfile|visapost|occup|entdepa|entdepd|entdepu|matflag|biryear| dtaddto|gender|insnum|airline|      admnum|fltno|visatype|\n",
      "+-----+------+------+------+------+-------+-------+-------+-------+-------+------+-------+-----+----------+--------+-----+-------+-------+-------+-------+-------+--------+------+------+-------+------------+-----+--------+\n",
      "|  6.0|2016.0|   4.0| 692.0| 692.0|    XXX|20573.0|   null|   null|   null|  37.0|    2.0|  1.0|      null|    null| null|      T|   null|      U|   null| 1979.0|10282016|  null|  null|   null|1897628485.0| null|      B2|\n",
      "|  7.0|2016.0|   4.0| 254.0| 276.0|    ATL|20551.0|    1.0|     AL|   null|  25.0|    3.0|  1.0|20130811.0|     SEO| null|      G|   null|      Y|   null| 1991.0|     D/S|     M|  null|   null|3736796330.0|00296|      F1|\n",
      "| 15.0|2016.0|   4.0| 101.0| 101.0|    WAS|20545.0|    1.0|     MI|20691.0|  55.0|    2.0|  1.0|20160401.0|    null| null|      T|      O|   null|      M| 1961.0|09302016|     M|  null|     OS| 666643185.0|   93|      B2|\n",
      "+-----+------+------+------+------+-------+-------+-------+-------+-------+------+-------+-----+----------+--------+-----+-------+-------+-------+-------+-------+--------+------+------+-------+------------+-----+--------+\n",
      "only showing top 3 rows\n",
      "\n"
     ]
    }
   ],
   "source": [
    "df_immegration_i94.show(3)"
   ]
  },
  {
   "cell_type": "code",
   "execution_count": 18,
   "metadata": {
    "editable": true
   },
   "outputs": [
    {
     "data": {
      "text/plain": [
       "3096313"
      ]
     },
     "execution_count": 18,
     "metadata": {},
     "output_type": "execute_result"
    }
   ],
   "source": [
    "df_immegration_i94.count()"
   ]
  },
  {
   "cell_type": "markdown",
   "metadata": {
    "editable": true
   },
   "source": [
    "# Step 2: Explore and Assess the Data\n",
    "## Explore the Data\n",
    "### Identify data quality issues, like missing values, duplicate data, etc."
   ]
  },
  {
   "cell_type": "markdown",
   "metadata": {
    "editable": true
   },
   "source": [
    "## Cleaning Steps\n",
    "* Filter average temperature data only for the United States and only year == 2010 and create new fields with year, month, average temperature.\n",
    "* Remove nulls then convert i94res codes to country of origin then select important columns from the immigration data and drop duplicates.\n",
    "* Sort city demographic data then calculate percentages and select percentages fields and drop duplicates.\n",
    "* Filter airport data for \"small_airport\" and use substring to return the state code."
   ]
  },
  {
   "cell_type": "code",
   "execution_count": 19,
   "metadata": {
    "editable": true
   },
   "outputs": [],
   "source": [
    "from us_state_abbrev import state_udf, abbrev_state, abbrev_state_udf,city_code_udf,city_codes\n",
    "from immigration_codes import country_udf\n",
    "import re"
   ]
  },
  {
   "cell_type": "code",
   "execution_count": 20,
   "metadata": {
    "editable": true
   },
   "outputs": [],
   "source": [
    "df_temp_us = df_temperature.filter(df_temperature[\"country\"]==\"United States\")\\\n",
    ".filter(year(df_temperature[\"dt\"])==2010)\\\n",
    ".withColumn(\"year\",year(df_temperature[\"dt\"]))\\\n",
    ".withColumn(\"month\",month(df_temperature[\"dt\"]))\\\n",
    ".withColumn(\"avg_temp\",df_temperature[\"AverageTemperature\"])"
   ]
  },
  {
   "cell_type": "code",
   "execution_count": 21,
   "metadata": {
    "editable": true
   },
   "outputs": [
    {
     "name": "stdout",
     "output_type": "stream",
     "text": [
      "+----------+------------------+-----------------------------+-------+-------------+--------+---------+----+-----+------------------+\n",
      "|        dt|AverageTemperature|AverageTemperatureUncertainty|   City|      Country|Latitude|Longitude|year|month|          avg_temp|\n",
      "+----------+------------------+-----------------------------+-------+-------------+--------+---------+----+-----+------------------+\n",
      "|2010-01-01|             4.811|                        0.257|Abilene|United States|  32.95N|  100.53W|2010|    1|             4.811|\n",
      "|2010-02-01|              4.51|                        0.309|Abilene|United States|  32.95N|  100.53W|2010|    2|              4.51|\n",
      "|2010-03-01|            11.398|          0.33799999999999997|Abilene|United States|  32.95N|  100.53W|2010|    3|            11.398|\n",
      "|2010-04-01|17.145999999999994|                         0.18|Abilene|United States|  32.95N|  100.53W|2010|    4|17.145999999999994|\n",
      "|2010-05-01|            21.534|                        0.358|Abilene|United States|  32.95N|  100.53W|2010|    5|            21.534|\n",
      "+----------+------------------+-----------------------------+-------+-------------+--------+---------+----+-----+------------------+\n",
      "only showing top 5 rows\n",
      "\n"
     ]
    }
   ],
   "source": [
    "df_temp_us.show(5)"
   ]
  },
  {
   "cell_type": "code",
   "execution_count": 22,
   "metadata": {
    "editable": true
   },
   "outputs": [
    {
     "data": {
      "text/plain": [
       "3084"
      ]
     },
     "execution_count": 22,
     "metadata": {},
     "output_type": "execute_result"
    }
   ],
   "source": [
    "df_temp_us.count()"
   ]
  },
  {
   "cell_type": "code",
   "execution_count": 23,
   "metadata": {
    "editable": true
   },
   "outputs": [],
   "source": [
    "# Dictionary of valid i94port codes is created\n",
    "re_obj = re.compile(r'\\'(.*)\\'.*\\'(.*)\\'')\n",
    "i94portvalid = {}\n",
    "with open('i94port.txt') as f:\n",
    "     for data in f:\n",
    "            match = re_obj.search(data)\n",
    "            i94portvalid[match[1]]=[match[2]]"
   ]
  },
  {
   "cell_type": "code",
   "execution_count": 24,
   "metadata": {
    "editable": true
   },
   "outputs": [],
   "source": [
    "@udf()\n",
    "def get_city(city):\n",
    "    for key in i94portvalid:\n",
    "        if city.lower() in i94portvalid[key][0].lower():\n",
    "            return key"
   ]
  },
  {
   "cell_type": "code",
   "execution_count": 25,
   "metadata": {
    "editable": true
   },
   "outputs": [],
   "source": [
    "df_temp_us_2 = df_temp_us.withColumn(\"i94port_code\", get_city(df_temp_us.City))"
   ]
  },
  {
   "cell_type": "code",
   "execution_count": 26,
   "metadata": {
    "editable": true
   },
   "outputs": [],
   "source": [
    "df_temp_us_2 = df_temp_us_2.filter(df_temp_us_2.i94port_code != \"null\")"
   ]
  },
  {
   "cell_type": "code",
   "execution_count": 27,
   "metadata": {
    "editable": true
   },
   "outputs": [],
   "source": [
    "final_temp_data=df_temp_us_2.select(\"year\",\"month\",round(col(\"avg_temp\"),1).alias(\"avg_temp\"),\"i94port_code\",\"City\",\"Country\").dropDuplicates()"
   ]
  },
  {
   "cell_type": "code",
   "execution_count": 28,
   "metadata": {
    "editable": true
   },
   "outputs": [
    {
     "data": {
      "text/plain": [
       "1403"
      ]
     },
     "execution_count": 28,
     "metadata": {},
     "output_type": "execute_result"
    }
   ],
   "source": [
    "final_temp_data.count()"
   ]
  },
  {
   "cell_type": "code",
   "execution_count": 29,
   "metadata": {
    "editable": true
   },
   "outputs": [
    {
     "name": "stdout",
     "output_type": "stream",
     "text": [
      "+----+-----+--------+------------+---------+-------------+\n",
      "|year|month|avg_temp|i94port_code|     City|      Country|\n",
      "+----+-----+--------+------------+---------+-------------+\n",
      "|2010|    7|    26.5|         BAL|Baltimore|United States|\n",
      "|2010|   11|     6.5|         COL| Columbus|United States|\n",
      "|2010|    9|    30.5|         OTM|     Mesa|United States|\n",
      "|2010|    3|    12.3|         OAK|  Oakland|United States|\n",
      "|2010|    2|    10.4|         ACY|   Pomona|United States|\n",
      "+----+-----+--------+------------+---------+-------------+\n",
      "only showing top 5 rows\n",
      "\n"
     ]
    }
   ],
   "source": [
    "final_temp_data.show(5)"
   ]
  },
  {
   "cell_type": "markdown",
   "metadata": {
    "editable": true
   },
   "source": [
    "## Temperature Table \n",
    "\n",
    "* year : year\n",
    "* month : month\n",
    "* avg_temp : average of temperature \n",
    "* i94port_code : code of the city visited\n",
    "* City : name of the city visited\n",
    "* Country : United States for all data "
   ]
  },
  {
   "cell_type": "markdown",
   "metadata": {
    "editable": true
   },
   "source": [
    "# Immigration Data"
   ]
  },
  {
   "cell_type": "code",
   "execution_count": 30,
   "metadata": {
    "editable": true
   },
   "outputs": [],
   "source": [
    "df_immigration = df_immegration_i94.filter(df_immegration_i94.i94port.isin(list(i94portvalid.keys())))"
   ]
  },
  {
   "cell_type": "code",
   "execution_count": 31,
   "metadata": {
    "editable": true
   },
   "outputs": [
    {
     "data": {
      "text/plain": [
       "3088544"
      ]
     },
     "execution_count": 31,
     "metadata": {},
     "output_type": "execute_result"
    }
   ],
   "source": [
    "df_immigration.count()"
   ]
  },
  {
   "cell_type": "code",
   "execution_count": 32,
   "metadata": {
    "editable": true
   },
   "outputs": [],
   "source": [
    "df_immigration_1 = df_immigration.filter(df_immigration.i94addr.isNotNull())\\\n",
    ".filter(df_immigration.i94res.isNotNull())\\\n",
    ".withColumn(\"city_port_name\",city_code_udf(df_immigration[\"i94port\"]))"
   ]
  },
  {
   "cell_type": "code",
   "execution_count": 33,
   "metadata": {
    "editable": true
   },
   "outputs": [],
   "source": [
    "final_immigration_data=df_immigration_1.select(\"cicid\",col(\"i94yr\").alias(\"year\"),col(\"i94mon\").alias(\"month\"),\\\n",
    "\"city_port_name\",col(\"i94res\").alias(\"origin_country\"),\"i94port\",col(\"i94addr\").alias(\"state_code\"),\"arrdate\", \"i94mode\", \"depdate\", \"i94visa\")"
   ]
  },
  {
   "cell_type": "code",
   "execution_count": 34,
   "metadata": {
    "editable": true
   },
   "outputs": [
    {
     "data": {
      "text/plain": [
       "2938179"
      ]
     },
     "execution_count": 34,
     "metadata": {},
     "output_type": "execute_result"
    }
   ],
   "source": [
    "final_immigration_data.count()"
   ]
  },
  {
   "cell_type": "code",
   "execution_count": 35,
   "metadata": {
    "editable": true
   },
   "outputs": [
    {
     "name": "stdout",
     "output_type": "stream",
     "text": [
      "+-----+------+-----+--------------------+--------------+-------+----------+-------+-------+-------+-------+\n",
      "|cicid|  year|month|      city_port_name|origin_country|i94port|state_code|arrdate|i94mode|depdate|i94visa|\n",
      "+-----+------+-----+--------------------+--------------+-------+----------+-------+-------+-------+-------+\n",
      "|  7.0|2016.0|  4.0|  ATLANTA           |         276.0|    ATL|        AL|20551.0|    1.0|   null|    3.0|\n",
      "| 15.0|2016.0|  4.0|WASHINGTON DC    ...|         101.0|    WAS|        MI|20545.0|    1.0|20691.0|    2.0|\n",
      "| 16.0|2016.0|  4.0|  NEW YORK          |         101.0|    NYC|        MA|20545.0|    1.0|20567.0|    2.0|\n",
      "| 17.0|2016.0|  4.0|  NEW YORK          |         101.0|    NYC|        MA|20545.0|    1.0|20567.0|    2.0|\n",
      "| 18.0|2016.0|  4.0|  NEW YORK          |         101.0|    NYC|        MI|20545.0|    1.0|20555.0|    1.0|\n",
      "+-----+------+-----+--------------------+--------------+-------+----------+-------+-------+-------+-------+\n",
      "only showing top 5 rows\n",
      "\n"
     ]
    }
   ],
   "source": [
    "final_immigration_data.show(5)"
   ]
  },
  {
   "cell_type": "markdown",
   "metadata": {
    "editable": true
   },
   "source": [
    "## Immigration Table\n",
    "\n",
    "* cicid\n",
    "* year : year\n",
    "* month : month\n",
    "* city_port_name : name of the arrival city\n",
    "* origin_country : country of residence\n",
    "* i94port : arrival airport (city visited)\n",
    "* state_code : code of arrival state\n",
    "* arrdate : arrival date\n",
    "* i94mode : 1 digit travel code\n",
    "* depdate = departure date from the USA,\n",
    "* i94visa = reason for immigration,"
   ]
  },
  {
   "cell_type": "markdown",
   "metadata": {
    "editable": true
   },
   "source": [
    "# U.S. Demographic Data by State"
   ]
  },
  {
   "cell_type": "code",
   "execution_count": 36,
   "metadata": {
    "editable": true
   },
   "outputs": [
    {
     "name": "stdout",
     "output_type": "stream",
     "text": [
      "+----------------+-------------+----------+---------------+-----------------+----------------+------------------+------------+----------------------+----------+--------------------+-----+\n",
      "|            City|        State|Median Age|Male Population|Female Population|Total Population|Number of Veterans|Foreign-born|Average Household Size|State Code|                Race|Count|\n",
      "+----------------+-------------+----------+---------------+-----------------+----------------+------------------+------------+----------------------+----------+--------------------+-----+\n",
      "|   Silver Spring|     Maryland|      33.8|          40601|            41862|           82463|              1562|       30908|                   2.6|        MD|  Hispanic or Latino|25924|\n",
      "|          Quincy|Massachusetts|      41.0|          44129|            49500|           93629|              4147|       32935|                  2.39|        MA|               White|58723|\n",
      "|          Hoover|      Alabama|      38.5|          38040|            46799|           84839|              4819|        8229|                  2.58|        AL|               Asian| 4759|\n",
      "|Rancho Cucamonga|   California|      34.5|          88127|            87105|          175232|              5821|       33878|                  3.18|        CA|Black or African-...|24437|\n",
      "|          Newark|   New Jersey|      34.6|         138040|           143873|          281913|              5829|       86253|                  2.73|        NJ|               White|76402|\n",
      "+----------------+-------------+----------+---------------+-----------------+----------------+------------------+------------+----------------------+----------+--------------------+-----+\n",
      "only showing top 5 rows\n",
      "\n"
     ]
    }
   ],
   "source": [
    "df_demographics.show(5)"
   ]
  },
  {
   "cell_type": "code",
   "execution_count": 37,
   "metadata": {
    "editable": true
   },
   "outputs": [],
   "source": [
    "#Calculate percentages of each numeric column and create new columns.\n",
    "demographics_data=df_demographics\\\n",
    ".withColumn(\"Median Age\",col(\"Median Age\").cast(\"float\"))\\\n",
    ".withColumn(\"male_pop_prc\",df_demographics[\"Male Population\"]/df_demographics[\"Total Population\"]*100)\\\n",
    ".withColumn(\"female_pop_prc\",df_demographics[\"Female Population\"]/df_demographics[\"Total Population\"]*100)\\\n",
    ".withColumn(\"veterans_prc\",df_demographics[\"Number of Veterans\"]/df_demographics[\"Total Population\"]*100)\\\n",
    ".withColumn(\"foreign_born_prc\",df_demographics[\"Foreign-born\"]/df_demographics[\"Total Population\"]*100)\\\n",
    ".withColumn(\"race_prc\",df_demographics[\"Count\"]/df_demographics[\"Total Population\"]*100)\\\n",
    ".orderBy(\"State\")"
   ]
  },
  {
   "cell_type": "code",
   "execution_count": 38,
   "metadata": {
    "editable": true
   },
   "outputs": [
    {
     "name": "stdout",
     "output_type": "stream",
     "text": [
      "+----------+-------+----------+---------------+-----------------+----------------+------------------+------------+----------------------+----------+------------------+-----+-----------------+-----------------+-----------------+------------------+------------------+\n",
      "|      City|  State|Median Age|Male Population|Female Population|Total Population|Number of Veterans|Foreign-born|Average Household Size|State Code|              Race|Count|     male_pop_prc|   female_pop_prc|     veterans_prc|  foreign_born_prc|          race_prc|\n",
      "+----------+-------+----------+---------------+-----------------+----------------+------------------+------------+----------------------+----------+------------------+-----+-----------------+-----------------+-----------------+------------------+------------------+\n",
      "|Montgomery|Alabama|      35.4|          94582|           106004|          200586|             14955|        9337|                  2.41|        AL|             White|73545|47.15284217243477|52.84715782756524|7.455654931052018|4.6548612565184015|36.665071340970954|\n",
      "|Huntsville|Alabama|      38.1|          91764|            97350|          189114|             16637|       12691|                  2.18|        AL|Hispanic or Latino|10887|48.52311304292649|51.47688695707351|8.797339171081992| 6.710767050562094| 5.756845077572257|\n",
      "+----------+-------+----------+---------------+-----------------+----------------+------------------+------------+----------------------+----------+------------------+-----+-----------------+-----------------+-----------------+------------------+------------------+\n",
      "only showing top 2 rows\n",
      "\n"
     ]
    }
   ],
   "source": [
    "demographics_data.show(2)"
   ]
  },
  {
   "cell_type": "code",
   "execution_count": 39,
   "metadata": {
    "editable": true
   },
   "outputs": [],
   "source": [
    "#Select columns with new calculated percentages and state names.\n",
    "demographics_data_1=demographics_data.select(\"State\",col(\"State Code\").alias(\"state_code\"),\\\n",
    "                                                         col(\"Median Age\").alias(\"median_age\"),\\\n",
    "                                                         \"male_pop_prc\",\\\n",
    "                                                         \"female_pop_prc\",\\\n",
    "                                                         \"veterans_prc\",\\\n",
    "                                                         \"foreign_born_prc\",\\\n",
    "                                                         \"race_prc\",\\\n",
    "                                                         \"Race\")"
   ]
  },
  {
   "cell_type": "code",
   "execution_count": 40,
   "metadata": {
    "editable": true
   },
   "outputs": [
    {
     "name": "stdout",
     "output_type": "stream",
     "text": [
      "+-------+----------+----------+------------------+------------------+-----------------+------------------+------------------+--------------------+\n",
      "|  State|state_code|median_age|      male_pop_prc|    female_pop_prc|     veterans_prc|  foreign_born_prc|          race_prc|                Race|\n",
      "+-------+----------+----------+------------------+------------------+-----------------+------------------+------------------+--------------------+\n",
      "|Alabama|        AL|      38.1| 48.52311304292649| 51.47688695707351|8.797339171081992| 6.710767050562094|32.552322937487446|Black or African-...|\n",
      "|Alabama|        AL|      29.1| 48.09229392503407| 51.90770607496593|3.708637556183774| 4.785535601700258| 2.516829709776485|  Hispanic or Latino|\n",
      "|Alabama|        AL|      38.9|47.636815920398014|52.363184079601986|9.378701729447998| 2.515695332859512|1.7398128405591091|               Asian|\n",
      "|Alabama|        AL|      35.4| 47.15284217243477| 52.84715782756524|7.455654931052018|4.6548612565184015|36.665071340970954|               White|\n",
      "|Alabama|        AL|      38.9|47.636815920398014|52.363184079601986|9.378701729447998| 2.515695332859512| 2.523098791755508|  Hispanic or Latino|\n",
      "+-------+----------+----------+------------------+------------------+-----------------+------------------+------------------+--------------------+\n",
      "only showing top 5 rows\n",
      "\n"
     ]
    }
   ],
   "source": [
    "demographics_data_1.show(5)"
   ]
  },
  {
   "cell_type": "code",
   "execution_count": null,
   "metadata": {
    "editable": true
   },
   "outputs": [],
   "source": []
  },
  {
   "cell_type": "code",
   "execution_count": 41,
   "metadata": {
    "editable": true
   },
   "outputs": [],
   "source": [
    "# pivot the Race column\n",
    "demographics_data_2=demographics_data_1.groupBy(\"State\",\"state_code\",\\\n",
    "                                             \"median_age\",\"male_pop_prc\",\\\n",
    "                                             \"female_pop_prc\",\"veterans_prc\",\\\n",
    "                                              \"foreign_born_prc\").pivot(\"Race\").avg(\"race_prc\")"
   ]
  },
  {
   "cell_type": "code",
   "execution_count": null,
   "metadata": {
    "editable": true
   },
   "outputs": [],
   "source": [
    "#change the header name of the race fields for spark compatibility.\n",
    "demographics_data_3=demographics_data_2.select(\"State\",\"state_code\",\"median_age\",\"male_pop_prc\",\\\n",
    "                                         \"female_pop_prc\",\"veterans_prc\",\"foreign_born_prc\",\\\n",
    "                                         col(\"American Indian and Alaska Native\").alias(\"native_american\"),\\\n",
    "                                         col(\"Asian\"),col(\"Black or African-American\").alias(\"Black\"),\\\n",
    "                                         col(\"Hispanic or Latino\").alias(\"hispanic_or_latino\"),\"White\")"
   ]
  },
  {
   "cell_type": "code",
   "execution_count": null,
   "metadata": {
    "editable": true
   },
   "outputs": [],
   "source": [
    "#Find the average of each column per state."
   ]
  },
  {
   "cell_type": "code",
   "execution_count": 42,
   "metadata": {
    "editable": true
   },
   "outputs": [],
   "source": [
    "final_demographics_data=demographics_data_3.groupBy(\"State\",\"state_code\").avg(\"median_age\",\"male_pop_prc\",\"female_pop_prc\",\\\n",
    "                                                       \"veterans_prc\",\"foreign_born_prc\",\"native_american\",\\\n",
    "                                                       \"Asian\",\"Black\",\"hispanic_or_latino\",\"White\").orderBy(\"State\")"
   ]
  },
  {
   "cell_type": "code",
   "execution_count": 43,
   "metadata": {
    "editable": true
   },
   "outputs": [],
   "source": [
    "#Round the percentages and fix column names\n",
    "final_demographics_data=final_demographics_data.select(\"State\",\"state_code\",round(col(\"avg(median_age)\"),1).alias(\"median_age\"),\\\n",
    "                  round(col(\"avg(male_pop_prc)\"),1).alias(\"male_pop_prc\"),\\\n",
    "                   round(col(\"avg(female_pop_prc)\"),1).alias(\"female_pop_prc\"),\\\n",
    "                   round(col(\"avg(veterans_prc)\"),1).alias(\"veterans_prc\"),\\\n",
    "                   round(col(\"avg(foreign_born_prc)\"),1).alias(\"foreign_born_prc\"),\\\n",
    "                   round(col(\"avg(native_american)\"),1).alias(\"native_american\"),\\\n",
    "                   round(col(\"avg(Asian)\"),1).alias(\"Asian\"),\\\n",
    "                   round(col(\"avg(hispanic_or_latino)\"),1).alias(\"hispanic_or_latino\"),\\\n",
    "                   round(col(\"avg(Black)\"),1).alias(\"Black\"),\\\n",
    "                   round(col('avg(White)'),1).alias('White')\n",
    "                  )"
   ]
  },
  {
   "cell_type": "code",
   "execution_count": 44,
   "metadata": {
    "editable": true
   },
   "outputs": [
    {
     "name": "stdout",
     "output_type": "stream",
     "text": [
      "+----------+----------+----------+------------+--------------+------------+----------------+---------------+-----+------------------+-----+-----+\n",
      "|     State|state_code|median_age|male_pop_prc|female_pop_prc|veterans_prc|foreign_born_prc|native_american|Asian|hispanic_or_latino|Black|White|\n",
      "+----------+----------+----------+------------+--------------+------------+----------------+---------------+-----+------------------+-----+-----+\n",
      "|   Alabama|        AL|      36.2|        47.2|          52.8|         6.8|             5.1|            0.8|  2.9|               3.6| 45.0| 52.0|\n",
      "|    Alaska|        AK|      32.2|        51.2|          48.8|         9.2|            11.1|           12.2| 12.3|               9.1|  7.7| 71.2|\n",
      "|   Arizona|        AZ|      35.0|        48.8|          51.2|         6.6|            12.6|            2.8|  5.1|              28.8|  6.0| 82.7|\n",
      "|  Arkansas|        AR|      32.8|        48.4|          51.6|         5.2|            10.7|            1.8|  4.1|              14.2| 21.8| 68.0|\n",
      "|California|        CA|      36.2|        49.4|          50.6|         4.1|            27.6|            1.7| 17.9|              37.8|  7.5| 62.7|\n",
      "+----------+----------+----------+------------+--------------+------------+----------------+---------------+-----+------------------+-----+-----+\n",
      "only showing top 5 rows\n",
      "\n"
     ]
    }
   ],
   "source": [
    "final_demographics_data.show(5)"
   ]
  },
  {
   "cell_type": "markdown",
   "metadata": {
    "editable": true
   },
   "source": [
    "## Demographics Table \n",
    "    \n",
    "* State : City visited\n",
    "* state_code : code of visited city\n",
    "* median_age : median age of visitor\n",
    "* male_pop_prc : male population percentage\n",
    "* female_pop_prc : female population percentage\n",
    "* veterans_prc : veterans population percentage\n",
    "* foreign_born_prc : foreign born population percentage\n",
    "* native_american : native_american population percentage\n",
    "* Asian : Asian population percentage\n",
    "* hispanic_or_latino : hispanic_or_latino population percentage\n",
    "* Black : balck population percentage\n",
    "* White : white population percentage"
   ]
  },
  {
   "cell_type": "markdown",
   "metadata": {
    "editable": true
   },
   "source": [
    "# U.S. Airport Data by State"
   ]
  },
  {
   "cell_type": "code",
   "execution_count": 45,
   "metadata": {
    "editable": true
   },
   "outputs": [
    {
     "name": "stdout",
     "output_type": "stream",
     "text": [
      "+-----+-------------+--------------------+------------+---------+-----------+----------+------------+--------+---------+----------+--------------------+\n",
      "|ident|         type|                name|elevation_ft|continent|iso_country|iso_region|municipality|gps_code|iata_code|local_code|         coordinates|\n",
      "+-----+-------------+--------------------+------------+---------+-----------+----------+------------+--------+---------+----------+--------------------+\n",
      "|  00A|     heliport|   Total Rf Heliport|          11|       NA|         US|     US-PA|    Bensalem|     00A|     null|       00A|-74.9336013793945...|\n",
      "| 00AA|small_airport|Aero B Ranch Airport|        3435|       NA|         US|     US-KS|       Leoti|    00AA|     null|      00AA|-101.473911, 38.7...|\n",
      "| 00AK|small_airport|        Lowell Field|         450|       NA|         US|     US-AK|Anchor Point|    00AK|     null|      00AK|-151.695999146, 5...|\n",
      "| 00AL|small_airport|        Epps Airpark|         820|       NA|         US|     US-AL|     Harvest|    00AL|     null|      00AL|-86.7703018188476...|\n",
      "| 00AR|       closed|Newport Hospital ...|         237|       NA|         US|     US-AR|     Newport|    null|     null|      null| -91.254898, 35.6087|\n",
      "| 00AS|small_airport|      Fulton Airport|        1100|       NA|         US|     US-OK|        Alex|    00AS|     null|      00AS|-97.8180194, 34.9...|\n",
      "| 00AZ|small_airport|      Cordes Airport|        3810|       NA|         US|     US-AZ|      Cordes|    00AZ|     null|      00AZ|-112.165000915527...|\n",
      "| 00CA|small_airport|Goldstone /Gts/ A...|        3038|       NA|         US|     US-CA|     Barstow|    00CA|     null|      00CA|-116.888000488, 3...|\n",
      "| 00CL|small_airport| Williams Ag Airport|          87|       NA|         US|     US-CA|       Biggs|    00CL|     null|      00CL|-121.763427, 39.4...|\n",
      "| 00CN|     heliport|Kitchen Creek Hel...|        3350|       NA|         US|     US-CA| Pine Valley|    00CN|     null|      00CN|-116.4597417, 32....|\n",
      "+-----+-------------+--------------------+------------+---------+-----------+----------+------------+--------+---------+----------+--------------------+\n",
      "only showing top 10 rows\n",
      "\n"
     ]
    }
   ],
   "source": [
    "df_airports.show(10)"
   ]
  },
  {
   "cell_type": "code",
   "execution_count": 46,
   "metadata": {
    "editable": true
   },
   "outputs": [],
   "source": [
    "#Filter airport data for 'small_airport' in the U.S. and use substring to show state\n",
    "airport_data=df_airports.filter(df_airports[\"type\"]==\"small_airport\")\\\n",
    ".filter(df_airports[\"iso_country\"]==\"US\")\\\n",
    ".withColumn(\"iso_region\",substring(df_airports[\"iso_region\"],4,2))\\\n",
    ".withColumn(\"elevation_ft\",col(\"elevation_ft\").cast(\"float\"))"
   ]
  },
  {
   "cell_type": "code",
   "execution_count": 47,
   "metadata": {
    "editable": true
   },
   "outputs": [
    {
     "name": "stdout",
     "output_type": "stream",
     "text": [
      "+-----+-------------+--------------------+------------+---------+-----------+----------+------------+--------+---------+----------+--------------------+\n",
      "|ident|         type|                name|elevation_ft|continent|iso_country|iso_region|municipality|gps_code|iata_code|local_code|         coordinates|\n",
      "+-----+-------------+--------------------+------------+---------+-----------+----------+------------+--------+---------+----------+--------------------+\n",
      "| 00AA|small_airport|Aero B Ranch Airport|      3435.0|       NA|         US|        KS|       Leoti|    00AA|     null|      00AA|-101.473911, 38.7...|\n",
      "| 00AK|small_airport|        Lowell Field|       450.0|       NA|         US|        AK|Anchor Point|    00AK|     null|      00AK|-151.695999146, 5...|\n",
      "| 00AL|small_airport|        Epps Airpark|       820.0|       NA|         US|        AL|     Harvest|    00AL|     null|      00AL|-86.7703018188476...|\n",
      "| 00AS|small_airport|      Fulton Airport|      1100.0|       NA|         US|        OK|        Alex|    00AS|     null|      00AS|-97.8180194, 34.9...|\n",
      "| 00AZ|small_airport|      Cordes Airport|      3810.0|       NA|         US|        AZ|      Cordes|    00AZ|     null|      00AZ|-112.165000915527...|\n",
      "| 00CA|small_airport|Goldstone /Gts/ A...|      3038.0|       NA|         US|        CA|     Barstow|    00CA|     null|      00CA|-116.888000488, 3...|\n",
      "| 00CL|small_airport| Williams Ag Airport|        87.0|       NA|         US|        CA|       Biggs|    00CL|     null|      00CL|-121.763427, 39.4...|\n",
      "| 00FA|small_airport| Grass Patch Airport|        53.0|       NA|         US|        FL|    Bushnell|    00FA|     null|      00FA|-82.2190017700195...|\n",
      "| 00FL|small_airport|   River Oak Airport|        35.0|       NA|         US|        FL|  Okeechobee|    00FL|     null|      00FL|-80.9692001342773...|\n",
      "| 00GA|small_airport|    Lt World Airport|       700.0|       NA|         US|        GA|    Lithonia|    00GA|     null|      00GA|-84.0682983398437...|\n",
      "| 00ID|small_airport|Delta Shores Airport|      2064.0|       NA|         US|        ID|  Clark Fork|    00ID|     null|      00ID|-116.213996887207...|\n",
      "| 00IG|small_airport|       Goltl Airport|      3359.0|       NA|         US|        KS|    McDonald|    00IG|     null|      00IG|-101.395994, 39.7...|\n",
      "| 00IL|small_airport|      Hammer Airport|       840.0|       NA|         US|        IL|        Polo|    00IL|     null|      00IL|-89.5604019165039...|\n",
      "| 00IS|small_airport|Hayenga's Cant Fi...|       820.0|       NA|         US|        IL|       Kings|    00IS|     null|      00IS|-89.1229019165039...|\n",
      "| 00KS|small_airport| Hayden Farm Airport|      1100.0|       NA|         US|        KS|     Gardner|    00KS|     null|      00KS|-94.9304962158203...|\n",
      "| 00KY|small_airport|Robbins Roost Air...|      1265.0|       NA|         US|        KY|    Stanford|    00KY|     null|      00KY|-84.6196975708007...|\n",
      "| 00LS|small_airport|     Lejeune Airport|        12.0|       NA|         US|        LA|   Esterwood|    00LS|     null|      00LS|-92.4293975830078...|\n",
      "| 00MD|small_airport|        Slater Field|        45.0|       NA|         US|        MD|Federalsburg|    00MD|     null|      00MD|-75.7537994384765...|\n",
      "| 00MN|small_airport|Battle Lake Munic...|      1365.0|       NA|         US|        MN| Battle Lake|    00MN|     null|      00MN|-95.7003021240234...|\n",
      "| 00MO|small_airport|Cooper Flying Ser...|       970.0|       NA|         US|        MO|        Alba|    00MO|     null|      00MO|-94.412399291992,...|\n",
      "+-----+-------------+--------------------+------------+---------+-----------+----------+------------+--------+---------+----------+--------------------+\n",
      "only showing top 20 rows\n",
      "\n"
     ]
    }
   ],
   "source": [
    "airport_data.show()"
   ]
  },
  {
   "cell_type": "code",
   "execution_count": 48,
   "metadata": {
    "editable": true
   },
   "outputs": [
    {
     "data": {
      "text/plain": [
       "13720"
      ]
     },
     "execution_count": 48,
     "metadata": {},
     "output_type": "execute_result"
    }
   ],
   "source": [
    "airport_data.count()"
   ]
  },
  {
   "cell_type": "code",
   "execution_count": 49,
   "metadata": {
    "editable": true
   },
   "outputs": [],
   "source": [
    "#Find average elevation per state\n",
    "airport_elevation_ft=airport_data.groupBy(\"iso_country\",\"iso_region\").avg(\"elevation_ft\")"
   ]
  },
  {
   "cell_type": "code",
   "execution_count": 50,
   "metadata": {
    "editable": true
   },
   "outputs": [
    {
     "data": {
      "text/plain": [
       "51"
      ]
     },
     "execution_count": 50,
     "metadata": {},
     "output_type": "execute_result"
    }
   ],
   "source": [
    "airport_elevation_ft.count()"
   ]
  },
  {
   "cell_type": "code",
   "execution_count": 51,
   "metadata": {
    "editable": true
   },
   "outputs": [],
   "source": [
    "#Select relevant columns and drop duplicates\n",
    "final_airport_data=airport_elevation_ft.select(col(\"iso_country\").alias(\"country\"),\\\n",
    "                                               col(\"iso_region\").alias(\"state\"),\\\n",
    "                                               round(col(\"avg(elevation_ft)\"),1).alias(\"avg_elevation_ft\")).orderBy(\"iso_region\")"
   ]
  },
  {
   "cell_type": "code",
   "execution_count": 52,
   "metadata": {
    "editable": true
   },
   "outputs": [
    {
     "name": "stdout",
     "output_type": "stream",
     "text": [
      "+-------+-----+----------------+\n",
      "|country|state|avg_elevation_ft|\n",
      "+-------+-----+----------------+\n",
      "|     US|   AK|           545.1|\n",
      "|     US|   AL|           414.6|\n",
      "|     US|   AR|           488.4|\n",
      "|     US|   AZ|          3098.0|\n",
      "|     US|   CA|          1261.4|\n",
      "+-------+-----+----------------+\n",
      "only showing top 5 rows\n",
      "\n"
     ]
    }
   ],
   "source": [
    "final_airport_data.show(5)"
   ]
  },
  {
   "cell_type": "markdown",
   "metadata": {
    "editable": true
   },
   "source": [
    "## Airport Table \n",
    "\n",
    "* country : country visited (US)\n",
    "* state : city visited code\n",
    "* avg_elevation_ft : average elevation in specific city"
   ]
  },
  {
   "cell_type": "markdown",
   "metadata": {
    "editable": true
   },
   "source": [
    "### Step 3: Define the Data Model\n",
    "#### 3.1 Conceptual Data Model\n",
    "Map out the conceptual data model and explain why you chose that model"
   ]
  },
  {
   "cell_type": "markdown",
   "metadata": {
    "editable": true
   },
   "source": [
    "## Temperature Table \n",
    "\n",
    "* year : year\n",
    "* month : month\n",
    "* avg_temp : average of temperature \n",
    "* i94port_code : code of the city visited\n",
    "* City : name of the city visited\n",
    "* Country : United States for all data "
   ]
  },
  {
   "cell_type": "markdown",
   "metadata": {
    "editable": true
   },
   "source": [
    "## Immigration Table\n",
    "\n",
    "* cicid\n",
    "* year : year\n",
    "* month : month\n",
    "* city_port_name : name of the arrival city\n",
    "* origin_country : country of residence\n",
    "* i94port : arrival airport (city visited)\n",
    "* state_code : code of arrival state\n",
    "* arrdate : arrival date\n",
    "* i94mode : 1 digit travel code\n",
    "* depdate = departure date from the USA,\n",
    "* i94visa = reason for immigration,"
   ]
  },
  {
   "cell_type": "markdown",
   "metadata": {
    "editable": true
   },
   "source": [
    "## Demographics Table \n",
    "    \n",
    "* State : City visited\n",
    "* state_code : code of visited city\n",
    "* median_age : median age of visitor\n",
    "* male_pop_prc : male population percentage\n",
    "* female_pop_prc : female population percentage\n",
    "* veterans_prc : veterans population percentage\n",
    "* foreign_born_prc : foreign born population percentage\n",
    "* native_american : native_american population percentage\n",
    "* Asian : Asian population percentage\n",
    "* hispanic_or_latino : hispanic_or_latino population percentage\n",
    "* Black : balck population percentage\n",
    "* White : white population percentage"
   ]
  },
  {
   "cell_type": "markdown",
   "metadata": {
    "editable": true
   },
   "source": [
    "## Airport Table \n",
    "\n",
    "* country : country visited (US)\n",
    "* state : city visited code\n",
    "* avg_elevation_ft : average elevation in specific city"
   ]
  },
  {
   "cell_type": "markdown",
   "metadata": {
    "editable": true
   },
   "source": [
    "# Immigration_US Fact Table\n",
    "* avg_temp\n",
    "* female_pop_prc\n",
    "* male_pop_prc\n",
    "* month\n",
    "* year\n",
    "* foreign_born_prc\n",
    "* native_american\n",
    "* avg_elevation_ft\n",
    "* male_pop_prc\n",
    "* Asian\n",
    "* hispanic_or_latino\n",
    "* White\n",
    "* Black\n",
    "* origin_country\n",
    "* city_port_name"
   ]
  },
  {
   "cell_type": "markdown",
   "metadata": {
    "editable": true
   },
   "source": [
    "## 3.2 Mapping Out Data Pipelines\n",
    "<br>1- Dimension tables will be created from cleansed data.\n",
    "<br>2- Fact table is created as a SQL query with joins to dimension tables.\n",
    "<br>3- Fact table is converted back to a spark dataframe.\n",
    "<br>4- Fact table is written as final parquet file."
   ]
  },
  {
   "cell_type": "markdown",
   "metadata": {
    "editable": true
   },
   "source": [
    "## Step 4: Run Pipelines to Model the Data\n",
    "### 4.1 Create the data model\n",
    "* Build the data pipelines to create the data model."
   ]
  },
  {
   "cell_type": "code",
   "execution_count": 53,
   "metadata": {
    "editable": true
   },
   "outputs": [],
   "source": [
    "# Create Dimension tables\n",
    "final_immigration_data.createOrReplaceTempView(\"immigration\")\n",
    "final_demographics_data.createOrReplaceTempView(\"demographics\")\n",
    "final_airport_data.createOrReplaceTempView(\"airport\")\n",
    "final_temp_data.createOrReplaceTempView(\"temperature\")"
   ]
  },
  {
   "cell_type": "code",
   "execution_count": 54,
   "metadata": {
    "editable": true
   },
   "outputs": [],
   "source": [
    "#allow unlimited time for SQL joins and parquet writes.\n",
    "sqlContext.setConf(\"spark.sql.autoBroadcastJoinThreshold\", \"0\")"
   ]
  },
  {
   "cell_type": "code",
   "execution_count": 52,
   "metadata": {
    "editable": true
   },
   "outputs": [
    {
     "name": "stdout",
     "output_type": "stream",
     "text": [
      "root\n",
      " |-- year: integer (nullable = true)\n",
      " |-- month: integer (nullable = true)\n",
      " |-- avg_temp: double (nullable = true)\n",
      " |-- i94port_code: string (nullable = true)\n",
      " |-- City: string (nullable = true)\n",
      " |-- Country: string (nullable = true)\n",
      "\n"
     ]
    }
   ],
   "source": [
    "final_temp_data.printSchema()"
   ]
  },
  {
   "cell_type": "code",
   "execution_count": 53,
   "metadata": {
    "editable": true
   },
   "outputs": [
    {
     "name": "stdout",
     "output_type": "stream",
     "text": [
      "root\n",
      " |-- cicid: string (nullable = true)\n",
      " |-- year: string (nullable = true)\n",
      " |-- month: string (nullable = true)\n",
      " |-- city_port_name: string (nullable = true)\n",
      " |-- origin_country: string (nullable = true)\n",
      " |-- i94port: string (nullable = true)\n",
      " |-- state_code: string (nullable = true)\n",
      " |-- arrdate: string (nullable = true)\n",
      " |-- i94mode: string (nullable = true)\n",
      " |-- depdate: string (nullable = true)\n",
      " |-- i94visa: string (nullable = true)\n",
      "\n"
     ]
    }
   ],
   "source": [
    "final_immigration_data.printSchema()"
   ]
  },
  {
   "cell_type": "code",
   "execution_count": 55,
   "metadata": {
    "editable": true
   },
   "outputs": [
    {
     "name": "stdout",
     "output_type": "stream",
     "text": [
      "root\n",
      " |-- State: string (nullable = true)\n",
      " |-- state_code: string (nullable = true)\n",
      " |-- median_age: double (nullable = true)\n",
      " |-- male_pop_prc: double (nullable = true)\n",
      " |-- female_pop_prc: double (nullable = true)\n",
      " |-- veterans_prc: double (nullable = true)\n",
      " |-- foreign_born_prc: double (nullable = true)\n",
      " |-- native_american: double (nullable = true)\n",
      " |-- Asian: double (nullable = true)\n",
      " |-- hispanic_or_latino: double (nullable = true)\n",
      " |-- Black: double (nullable = true)\n",
      " |-- White: double (nullable = true)\n",
      "\n"
     ]
    }
   ],
   "source": [
    "final_demographics_data.printSchema()"
   ]
  },
  {
   "cell_type": "code",
   "execution_count": 55,
   "metadata": {
    "editable": true
   },
   "outputs": [
    {
     "name": "stdout",
     "output_type": "stream",
     "text": [
      "root\n",
      " |-- country: string (nullable = true)\n",
      " |-- state: string (nullable = true)\n",
      " |-- avg_elevation_ft: double (nullable = true)\n",
      "\n"
     ]
    }
   ],
   "source": [
    "final_airport_data.printSchema()"
   ]
  },
  {
   "cell_type": "code",
   "execution_count": 56,
   "metadata": {
    "editable": true
   },
   "outputs": [],
   "source": [
    "#spark.sql(\"\"\"SELECT i94port_code,avg_temp,Country,t.month From temperature t JOIN immigration m ON t.i94port_code = m.i94port WHERE t.month = 1\"\"\").show(5)"
   ]
  },
  {
   "cell_type": "code",
   "execution_count": 57,
   "metadata": {
    "editable": true
   },
   "outputs": [],
   "source": [
    "#spark.sql(\"\"\"SELECT * FROM demographics\"\"\").show(5)"
   ]
  },
  {
   "cell_type": "code",
   "execution_count": 58,
   "metadata": {
    "editable": true
   },
   "outputs": [],
   "source": [
    "#spark.sql(\"\"\"SELECT * FROM airport\"\"\").show(5)"
   ]
  },
  {
   "cell_type": "code",
   "execution_count": 59,
   "metadata": {
    "editable": true
   },
   "outputs": [],
   "source": [
    "#spark.sql(\"\"\"SELECT avg_elevation_ft,male_pop_prc,median_age FROM airport a JOIN demographics d ON a.state=d.state_code\"\"\").show(5)"
   ]
  },
  {
   "cell_type": "code",
   "execution_count": 60,
   "metadata": {
    "editable": true
   },
   "outputs": [],
   "source": [
    "#spark.sql(\"\"\"SELECT avg_temp,t.month,a.avg_elevation_ft,d.male_pop_prc,m.origin_country FROM temperature t JOIN demographics d ON d.State = t.City JOIN immigration m ON t.i94port_code = m.i94port JOIN airport a ON a.state=d.state_code\"\"\").show(5)"
   ]
  },
  {
   "cell_type": "markdown",
   "metadata": {
    "editable": true
   },
   "source": [
    "spark.sql(\"\"\"SELECT avg_temp,t.month,a.avg_elevation_ft,d.male_pop_prc,m.origin_country\\\n",
    "                                    FROM temperature t\\\n",
    "                                    JOIN demographics d\\\n",
    "                                    ON d.State = t.City\\\n",
    "                                    JOIN immigration m\\\n",
    "                                    ON t.i94port_code = m.i94port\\\n",
    "                                    JOIN airport a\\\n",
    "                                    ON a.state=d.state_code\\\n",
    "                                    GROUP BY m.year,t.month, m.origin_country,\\\n",
    "                                    m.state_code,t.avg_temp,a.avg_elevation_ft,\\\n",
    "                                    d.female_pop_prc,male_pop_prc,d.foreign_born_prc,d.native_american,\\\n",
    "                                    d.Asian,d.hispanic_or_latino,\\\n",
    "                                    d.hispanic_or_latino,d.White,\\\n",
    "                                    d.Black\"\"\").show(5)"
   ]
  },
  {
   "cell_type": "markdown",
   "metadata": {
    "editable": true
   },
   "source": [
    "## Fact Table"
   ]
  },
  {
   "cell_type": "markdown",
   "metadata": {
    "editable": true
   },
   "source": [
    "spark.sql(\"\"\"SELECT avg_temp,d.female_pop_prc,d.male_pop_prc,m.month,m.year,d.foreign_born_prc,d.native_american,a.avg_elevation_ft,\\\n",
    "                                    d.male_pop_prc,\\\n",
    "                                    d.Asian,\\\n",
    "                                    d.hispanic_or_latino,\\\n",
    "                                    d.hispanic_or_latino,\\\n",
    "                                    d.White,\\\n",
    "                                    d.Black,\\\n",
    "                                    m.origin_country\\\n",
    "                                    FROM temperature t\\\n",
    "                                    JOIN demographics d\\\n",
    "                                    ON d.State = t.City\\\n",
    "                                    JOIN immigration m\\\n",
    "                                    ON t.i94port_code = m.i94port\\\n",
    "                                    JOIN airport a\\\n",
    "                                    ON a.state=d.state_code\\\n",
    "                                    GROUP BY m.year,m.month, m.origin_country,\\\n",
    "                                    m.state_code,t.avg_temp,a.avg_elevation_ft,\\\n",
    "                                    d.female_pop_prc,male_pop_prc,d.foreign_born_prc,d.native_american,\\\n",
    "                                    d.Asian,d.hispanic_or_latino,\\\n",
    "                                    d.hispanic_or_latino,d.White,\\\n",
    "                                    d.Black\"\"\").show(5)"
   ]
  },
  {
   "cell_type": "code",
   "execution_count": 66,
   "metadata": {
    "editable": true
   },
   "outputs": [],
   "source": [
    "immigration_us = spark.sql(\"\"\"SELECT avg_temp,d.female_pop_prc,d.male_pop_prc,m.month,m.year,d.foreign_born_prc,d.native_american,a.avg_elevation_ft,\\\n",
    "                                    d.Asian,\\\n",
    "                                    d.hispanic_or_latino,\\\n",
    "                                    d.White,\\\n",
    "                                    d.Black,\\\n",
    "                                    m.origin_country,\\\n",
    "                                    t.City,\\\n",
    "                                    m.city_port_name,\\\n",
    "                                    COUNT(m.state_code) AS state_counter,\\\n",
    "                                    COUNT(m.city_port_name) AS city_counter\\\n",
    "                                    FROM temperature t\\\n",
    "                                    JOIN demographics d\\\n",
    "                                    ON d.State = t.City\\\n",
    "                                    JOIN immigration m\\\n",
    "                                    ON t.i94port_code = m.i94port\\\n",
    "                                    JOIN airport a\\\n",
    "                                    ON a.state=d.state_code\\\n",
    "                                    GROUP BY m.year,m.month, m.origin_country,\\\n",
    "                                    m.state_code,t.avg_temp,a.avg_elevation_ft,\\\n",
    "                                    d.female_pop_prc,male_pop_prc,d.foreign_born_prc,d.native_american,\\\n",
    "                                    d.Asian,d.hispanic_or_latino,\\\n",
    "                                    d.hispanic_or_latino,d.White,\\\n",
    "                                    d.Black,t.City,m.city_port_name\"\"\")"
   ]
  },
  {
   "cell_type": "markdown",
   "metadata": {
    "editable": true
   },
   "source": [
    "## 4.2 Data Quality Checks\n",
    "Explain the data quality checks you'll perform to ensure the pipeline ran as expected. These could include:\n",
    "\n",
    "* Integrity constraints on the relational database (e.g., unique key, data type, etc.)\n",
    "* Unit tests for the scripts to ensure they are doing the right thing\n",
    "* Source/Count checks to ensure completeness\n",
    "<br>Run Quality Checks"
   ]
  },
  {
   "cell_type": "code",
   "execution_count": 70,
   "metadata": {
    "editable": true
   },
   "outputs": [],
   "source": [
    "# Write fact table to parquet\n",
    "#immigration_us.write.parquet(\"output/immigration_us\")"
   ]
  },
  {
   "cell_type": "code",
   "execution_count": 72,
   "metadata": {
    "editable": true
   },
   "outputs": [
    {
     "name": "stdout",
     "output_type": "stream",
     "text": [
      "+-----+-----+-------+\n",
      "| year|month|country|\n",
      "+-----+-----+-------+\n",
      "|false|false|  false|\n",
      "+-----+-----+-------+\n",
      "\n"
     ]
    }
   ],
   "source": [
    "immigration_us.select(isnull('year').alias('year'),\\\n",
    "                             isnull('month').alias('month'),\\\n",
    "                             isnull('origin_country').alias('country')).dropDuplicates().show()"
   ]
  },
  {
   "cell_type": "code",
   "execution_count": 69,
   "metadata": {
    "editable": true
   },
   "outputs": [
    {
     "name": "stdout",
     "output_type": "stream",
     "text": [
      "+----------------+\n",
      "|fact_table_count|\n",
      "+----------------+\n",
      "|         2938179|\n",
      "+----------------+\n",
      "\n"
     ]
    }
   ],
   "source": [
    "# people immigrant to united states from fact table\n",
    "immigration_us.select(sum('city_counter').alias('fact_table_count')).show()"
   ]
  },
  {
   "cell_type": "code",
   "execution_count": 70,
   "metadata": {
    "editable": true
   },
   "outputs": [
    {
     "name": "stdout",
     "output_type": "stream",
     "text": [
      "+----------+\n",
      "|immigrants|\n",
      "+----------+\n",
      "|   2938179|\n",
      "+----------+\n",
      "\n"
     ]
    }
   ],
   "source": [
    "# Count the total number of immigrants from the source table \n",
    "spark.sql('SELECT COUNT(*) as immigrants FROM immigration').show()"
   ]
  },
  {
   "cell_type": "markdown",
   "metadata": {
    "editable": true
   },
   "source": [
    "#### 4.3 Data dictionary \n",
    "Create a data dictionary for your data model. For each field, provide a brief description of what the data is and where it came from. You can include the data dictionary in the notebook or in a separate file."
   ]
  },
  {
   "cell_type": "markdown",
   "metadata": {
    "editable": true
   },
   "source": [
    "#### Step 5: Complete Project Write Up\n",
    "* Clearly state the rationale for the choice of tools and technologies for the project.\n",
    "* Propose how often the data should be updated and why.\n",
    "* Write a description of how you would approach the problem differently under the following scenarios:\n",
    " * The data was increased by 100x.\n",
    " - **We can use Amazon Redshift: It is an analytical database that is optimized for aggregation and read-heavy workloads**\n",
    " * The data populates a dashboard that must be updated on a daily basis by 7am every day.\n",
    " - **We can use Airflow, create DAG retries and send emails on failures and send mails to tell us it is finished.**\n",
    " - **Have daily quality checks; if fail, send emails to operators and freeze dashboards**\n",
    " * The database needed to be accessed by 100+ people.\n",
    " -**We can use RedShift to have the data stored ,it can efficiently be accessed by many people.**"
   ]
  },
  {
   "cell_type": "code",
   "execution_count": null,
   "metadata": {
    "editable": true
   },
   "outputs": [],
   "source": []
  }
 ],
 "metadata": {
  "kernelspec": {
   "display_name": "Python 3",
   "language": "python",
   "name": "python3"
  },
  "language_info": {
   "codemirror_mode": {
    "name": "ipython",
    "version": 3
   },
   "file_extension": ".py",
   "mimetype": "text/x-python",
   "name": "python",
   "nbconvert_exporter": "python",
   "pygments_lexer": "ipython3",
   "version": "3.6.3"
  }
 },
 "nbformat": 4,
 "nbformat_minor": 4
}
